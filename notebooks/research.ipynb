{
 "cells": [
  {
   "cell_type": "markdown",
   "metadata": {},
   "source": [
    "# **Анализ тональности отзывов из интернета**"
   ]
  },
  {
   "cell_type": "markdown",
   "metadata": {},
   "source": [
    "В рамках данной работы будет выбрана оптимальная модель классификации отзывов из интернета на русском языке. Будут рассмотрены классические алгоритмы ML и предобученная нейросеть."
   ]
  },
  {
   "cell_type": "markdown",
   "metadata": {
    "jp-MarkdownHeadingCollapsed": true
   },
   "source": [
    "# Setup"
   ]
  },
  {
   "cell_type": "code",
   "execution_count": null,
   "metadata": {
    "scrolled": true
   },
   "outputs": [],
   "source": [
    "! pip3 install nltk"
   ]
  },
  {
   "cell_type": "code",
   "execution_count": null,
   "metadata": {},
   "outputs": [],
   "source": [
    "!pip3 install kaggle --upgrade\n",
    "!pip3 install pandas --upgrade\n",
    "# !mkdir /Users/yaseminkhertek/.kaggle\n",
    "!cp ../config/kaggle.json /Users/yaseminkhertek/.kaggle/kaggle.json\n",
    "!chmod 600 /Users/yaseminkhertek/.kaggle/kaggle.json"
   ]
  },
  {
   "cell_type": "code",
   "execution_count": null,
   "metadata": {},
   "outputs": [],
   "source": [
    "# скачивание датасета (указать dataset name)\n",
    "import kaggle\n",
    "\n",
    "dataset_urls = [\"https://www.kaggle.com/datasets/dineshpiyasamara/sentiment-analysis-dataset\",\n",
    "                \"https://www.kaggle.com/datasets/uom190346a/global-coffee-health-dataset\",\n",
    "                \"https://www.kaggle.com/datasets/mar1mba/russian-sentiment-dataset\"]\n",
    "\n",
    "dataset_names = [url.replace('https://www.kaggle.com/datasets/', '') for url in dataset_urls]\n",
    "\n",
    "kaggle.api.authenticate()\n",
    "\n",
    "for dataset_name in dataset_names:\n",
    "  kaggle.api.dataset_download_files(\n",
    "      dataset_name,\n",
    "      unzip=True)"
   ]
  },
  {
   "cell_type": "code",
   "execution_count": null,
   "metadata": {},
   "outputs": [],
   "source": []
  },
  {
   "cell_type": "markdown",
   "metadata": {
    "jp-MarkdownHeadingCollapsed": true
   },
   "source": [
    "# Начало"
   ]
  },
  {
   "cell_type": "code",
   "execution_count": 76,
   "metadata": {
    "_cell_guid": "b1076dfc-b9ad-4769-8c92-a6c4dae69d19",
    "_uuid": "8f2839f25d086af736a60e9eeb907d3b93b6e0e5"
   },
   "outputs": [],
   "source": [
    "import pandas as pd\n",
    "import numpy as np\n",
    "import kaggle\n",
    "import matplotlib.pyplot as plt\n",
    "import seaborn as sns\n",
    "\n",
    "import joblib\n",
    "import pickle \n",
    "\n",
    "pd.set_option('display.max_columns', None)"
   ]
  },
  {
   "cell_type": "markdown",
   "metadata": {},
   "source": [
    "## ru dataset\n",
    "- Overview\n",
    "> This dataset is a comprehensive collection of Russian-language reviews and texts annotated for sentiment analysis. It is designed to support the development and evaluation of sentiment analysis models for the Russian language. The dataset is **balanced** across sentiment classes (neutral, positive, and negative) to ensure fair model training and evaluation.\n",
    "\n",
    "- Dataset Composition\n",
    "> The dataset is compiled from multiple publicly available sources.\n",
    "All source datasets were carefully balanced across sentiment classes (neutral, positive, and negative) to ensure a robust and unbiased dataset.\n",
    "\n",
    "- Dataset Structure\n",
    "> The dataset contains the following columns:\n",
    "\n",
    "  - text: The text of the review or comment.\n",
    "  - label: The sentiment label, where:\n",
    "    - 0: Neutral\n",
    "    - 1: Positive\n",
    "    - 2: Negative\n",
    "  - src: Source dataset."
   ]
  },
  {
   "cell_type": "code",
   "execution_count": 72,
   "metadata": {},
   "outputs": [
    {
     "data": {
      "text/html": [
       "<div>\n",
       "<style scoped>\n",
       "    .dataframe tbody tr th:only-of-type {\n",
       "        vertical-align: middle;\n",
       "    }\n",
       "\n",
       "    .dataframe tbody tr th {\n",
       "        vertical-align: top;\n",
       "    }\n",
       "\n",
       "    .dataframe thead th {\n",
       "        text-align: right;\n",
       "    }\n",
       "</style>\n",
       "<table border=\"1\" class=\"dataframe\">\n",
       "  <thead>\n",
       "    <tr style=\"text-align: right;\">\n",
       "      <th></th>\n",
       "      <th>text</th>\n",
       "      <th>label</th>\n",
       "      <th>src</th>\n",
       "    </tr>\n",
       "  </thead>\n",
       "  <tbody>\n",
       "    <tr>\n",
       "      <th>0</th>\n",
       "      <td>Пальто красивое, но пришло с дырой в молнии. П...</td>\n",
       "      <td>0</td>\n",
       "      <td>rureviews</td>\n",
       "    </tr>\n",
       "    <tr>\n",
       "      <th>1</th>\n",
       "      <td>Очень долго шел заказ,ждала к новому году,приш...</td>\n",
       "      <td>0</td>\n",
       "      <td>rureviews</td>\n",
       "    </tr>\n",
       "    <tr>\n",
       "      <th>2</th>\n",
       "      <td>Могу сказать одно, брюки нормальные, НО они бы...</td>\n",
       "      <td>0</td>\n",
       "      <td>rureviews</td>\n",
       "    </tr>\n",
       "    <tr>\n",
       "      <th>3</th>\n",
       "      <td>Доставка быстрая, меньше месяца. Заказывали ра...</td>\n",
       "      <td>0</td>\n",
       "      <td>rureviews</td>\n",
       "    </tr>\n",
       "    <tr>\n",
       "      <th>4</th>\n",
       "      <td>Мне не очень  понравилось это платье. Размер  ...</td>\n",
       "      <td>0</td>\n",
       "      <td>rureviews</td>\n",
       "    </tr>\n",
       "  </tbody>\n",
       "</table>\n",
       "</div>"
      ],
      "text/plain": [
       "                                                text  label        src\n",
       "0  Пальто красивое, но пришло с дырой в молнии. П...      0  rureviews\n",
       "1  Очень долго шел заказ,ждала к новому году,приш...      0  rureviews\n",
       "2  Могу сказать одно, брюки нормальные, НО они бы...      0  rureviews\n",
       "3  Доставка быстрая, меньше месяца. Заказывали ра...      0  rureviews\n",
       "4  Мне не очень  понравилось это платье. Размер  ...      0  rureviews"
      ]
     },
     "execution_count": 72,
     "metadata": {},
     "output_type": "execute_result"
    }
   ],
   "source": [
    "ru_dataset = pd.read_csv('../data/raw/sentiment_dataset.csv')\n",
    "eng_dataset = pd.read_csv('../data/raw/sentiment_analysis.csv')\n",
    "\n",
    "ru_dataset.head()"
   ]
  },
  {
   "cell_type": "code",
   "execution_count": null,
   "metadata": {},
   "outputs": [],
   "source": [
    "eng_dataset.head()"
   ]
  },
  {
   "cell_type": "markdown",
   "metadata": {
    "jp-MarkdownHeadingCollapsed": true
   },
   "source": [
    "# **EDA**"
   ]
  },
  {
   "cell_type": "markdown",
   "metadata": {},
   "source": [
    "## ru dataset\n",
    "- Overview\n",
    "> This dataset is a comprehensive collection of Russian-language reviews and texts annotated for sentiment analysis. It is designed to support the development and evaluation of sentiment analysis models for the Russian language. The dataset is **balanced** across sentiment classes (neutral, positive, and negative) to ensure fair model training and evaluation.\n",
    "\n",
    "- Dataset Composition\n",
    "> The dataset is compiled from multiple publicly available sources.\n",
    "All source datasets were carefully balanced across sentiment classes (neutral, positive, and negative) to ensure a robust and unbiased dataset.\n",
    "\n",
    "- Dataset Structure\n",
    "> The dataset contains the following columns:\n",
    "\n",
    "  - text: The text of the review or comment.\n",
    "  - label: The sentiment label, where:\n",
    "    - 0: Neutral\n",
    "    - 1: Positive\n",
    "    - 2: Negative\n",
    "  - src: Source dataset."
   ]
  },
  {
   "cell_type": "code",
   "execution_count": null,
   "metadata": {},
   "outputs": [],
   "source": [
    "print('Количество строк:', ru_dataset.shape[0])\n",
    "print('Количество колонок:', ru_dataset.shape[1])\n",
    "print('Колонки/атрибуты:\\n', ru_dataset.columns)\n",
    "# print(f'\\nВ сравнении с eng сетом: {ru_dataset.columns}\\nru cols: {set2_2.columns}\\n')\n",
    "print('\\nТипы данных:\\n', ru_dataset.dtypes)\n",
    "print('\\nКоличество уникальных значений в каждой колонке:\\n', ru_dataset.nunique())\n",
    "print('\\nПустые значения:\\n', ru_dataset.isnull().sum())\n",
    "print('\\nSentiments (баланс/не баланс):\\n', pd.Series(np.where(ru_dataset['label']==0, 'neutral',\n",
    "                                                     np.where(ru_dataset['label']==1, 'positive', 'negative')\n",
    "                                                    )).value_counts())"
   ]
  },
  {
   "cell_type": "markdown",
   "metadata": {},
   "source": [
    "- В данных нет пропусков,\n",
    "- Всего 11 категорий текстов,\n",
    "- Существует 3 класса (таргета),\n",
    "- Данные распределены равномерно по тональности (классу) - сбалансированы"
   ]
  },
  {
   "cell_type": "code",
   "execution_count": null,
   "metadata": {},
   "outputs": [],
   "source": [
    "ru_dataset.groupby(['src', 'label']).count()"
   ]
  },
  {
   "cell_type": "markdown",
   "metadata": {},
   "source": [
    "Можно заметить, что признак 'src' не очень полезен, так как во всех его категориях значения таргета распределены практически равномерно"
   ]
  },
  {
   "cell_type": "markdown",
   "metadata": {},
   "source": [
    "## eng dataset\n",
    "Из карточки:\n",
    "\n",
    "  Sentiment analysis uses natural language processing and machine learning techniques to analyze the **emotional tone or sentiment** behind a piece of text. It involves **identifying and categorizing opinions** expressed in a text as **positive, negative, or neutral**.\n",
    "  \n",
    "  This dataset contains different kinds of tweets and their sentiment (0 and 1).\n",
    "  - 0 stands for a positive tweet\n",
    "  - 1 stands for a negative tweet"
   ]
  },
  {
   "cell_type": "code",
   "execution_count": null,
   "metadata": {},
   "outputs": [],
   "source": [
    "print('Количество строк:', eng_dataset.shape[0])\n",
    "print('Количество колонок:', eng_dataset.shape[1])\n",
    "print('Колонки/атрибуты:\\n', eng_dataset.columns)\n",
    "print('\\nТипы данных:\\n', eng_dataset.dtypes)\n",
    "print('\\nКоличество уникальных значений в каждой колонке:\\n', eng_dataset.nunique())\n",
    "print('\\nПустые значения:\\n', eng_dataset.isnull().sum())\n",
    "print('\\nSentiments (баланс/не баланс):\\n', pd.Series(\n",
    "    np.where(eng_dataset['label']==0, 'positive', 'negative')\n",
    ").value_counts())"
   ]
  },
  {
   "cell_type": "markdown",
   "metadata": {},
   "source": [
    "- В данных нет пропусков,\n",
    "- Нет категорий текстов,\n",
    "- Всего 2 класса\n",
    "- Данные несбалансированы\n",
    "- Позитивных текстов больше отрицательных\n",
    "- Данных в целом меньше, чем в датасете в русскими текстами"
   ]
  },
  {
   "cell_type": "markdown",
   "metadata": {},
   "source": [
    "# **Предобработка данных**"
   ]
  },
  {
   "cell_type": "markdown",
   "metadata": {
    "jp-MarkdownHeadingCollapsed": true
   },
   "source": [
    "## Манипуляция с данными"
   ]
  },
  {
   "cell_type": "code",
   "execution_count": 3,
   "metadata": {},
   "outputs": [],
   "source": [
    "ru_dataset['sentiment'] = np.where(ru_dataset['label']==0, 'neutral',\n",
    "                                   np.where(ru_dataset['label']==1, 'positive', 'negative'))\n",
    "\n",
    "eng_dataset['sentiment'] = np.where(eng_dataset['label']==0, 'positive', 'negative')"
   ]
  },
  {
   "cell_type": "markdown",
   "metadata": {},
   "source": [
    "Поскольку английский датасет __не содержит \"neutral\"__, у вас два варианта:\n",
    "\n",
    "1) исключить из RU датасета neutral → оставить только \"positive\"/\"negative\"\n",
    "2) оставить 3 класса, но тогда английские твиты будут без \"neutral\" → модель не научится предсказывать нейтральность на англ.\n",
    "\n",
    "Удаляем из русского датасета лишний класс"
   ]
  },
  {
   "cell_type": "code",
   "execution_count": 4,
   "metadata": {},
   "outputs": [
    {
     "data": {
      "text/plain": [
       "sentiment  label\n",
       "negative   2        96977\n",
       "positive   1        96868\n",
       "Name: count, dtype: int64"
      ]
     },
     "execution_count": 4,
     "metadata": {},
     "output_type": "execute_result"
    }
   ],
   "source": [
    "ru_dataset.drop(ru_dataset[ru_dataset['sentiment']=='neutral'].index, axis=0, inplace=True)\n",
    "ru_dataset.drop('src', axis=1, inplace=True)\n",
    "ru_dataset.drop_duplicates(inplace=True)\n",
    "\n",
    "ru_dataset[['sentiment','label']].value_counts()"
   ]
  },
  {
   "cell_type": "code",
   "execution_count": 5,
   "metadata": {},
   "outputs": [
    {
     "data": {
      "text/html": [
       "<div>\n",
       "<style scoped>\n",
       "    .dataframe tbody tr th:only-of-type {\n",
       "        vertical-align: middle;\n",
       "    }\n",
       "\n",
       "    .dataframe tbody tr th {\n",
       "        vertical-align: top;\n",
       "    }\n",
       "\n",
       "    .dataframe thead th {\n",
       "        text-align: right;\n",
       "    }\n",
       "</style>\n",
       "<table border=\"1\" class=\"dataframe\">\n",
       "  <thead>\n",
       "    <tr style=\"text-align: right;\">\n",
       "      <th></th>\n",
       "      <th>label</th>\n",
       "      <th>tweet</th>\n",
       "      <th>sentiment</th>\n",
       "    </tr>\n",
       "  </thead>\n",
       "  <tbody>\n",
       "    <tr>\n",
       "      <th>0</th>\n",
       "      <td>0</td>\n",
       "      <td>#fingerprint #Pregnancy Test https://goo.gl/h1...</td>\n",
       "      <td>positive</td>\n",
       "    </tr>\n",
       "    <tr>\n",
       "      <th>1</th>\n",
       "      <td>0</td>\n",
       "      <td>Finally a transparant silicon case ^^ Thanks t...</td>\n",
       "      <td>positive</td>\n",
       "    </tr>\n",
       "    <tr>\n",
       "      <th>2</th>\n",
       "      <td>0</td>\n",
       "      <td>We love this! Would you go? #talk #makememorie...</td>\n",
       "      <td>positive</td>\n",
       "    </tr>\n",
       "    <tr>\n",
       "      <th>3</th>\n",
       "      <td>0</td>\n",
       "      <td>I'm wired I know I'm George I was made that wa...</td>\n",
       "      <td>positive</td>\n",
       "    </tr>\n",
       "    <tr>\n",
       "      <th>4</th>\n",
       "      <td>1</td>\n",
       "      <td>What amazing service! Apple won't even talk to...</td>\n",
       "      <td>negative</td>\n",
       "    </tr>\n",
       "  </tbody>\n",
       "</table>\n",
       "</div>"
      ],
      "text/plain": [
       "   label                                              tweet sentiment\n",
       "0      0  #fingerprint #Pregnancy Test https://goo.gl/h1...  positive\n",
       "1      0  Finally a transparant silicon case ^^ Thanks t...  positive\n",
       "2      0  We love this! Would you go? #talk #makememorie...  positive\n",
       "3      0  I'm wired I know I'm George I was made that wa...  positive\n",
       "4      1  What amazing service! Apple won't even talk to...  negative"
      ]
     },
     "execution_count": 5,
     "metadata": {},
     "output_type": "execute_result"
    }
   ],
   "source": [
    "eng_dataset.drop('id', axis=1, inplace=True)\n",
    "eng_dataset.drop_duplicates(inplace=True)\n",
    "\n",
    "eng_dataset.head()"
   ]
  },
  {
   "cell_type": "code",
   "execution_count": 6,
   "metadata": {},
   "outputs": [
    {
     "data": {
      "text/html": [
       "<div>\n",
       "<style scoped>\n",
       "    .dataframe tbody tr th:only-of-type {\n",
       "        vertical-align: middle;\n",
       "    }\n",
       "\n",
       "    .dataframe tbody tr th {\n",
       "        vertical-align: top;\n",
       "    }\n",
       "\n",
       "    .dataframe thead th {\n",
       "        text-align: right;\n",
       "    }\n",
       "</style>\n",
       "<table border=\"1\" class=\"dataframe\">\n",
       "  <thead>\n",
       "    <tr style=\"text-align: right;\">\n",
       "      <th></th>\n",
       "      <th>text</th>\n",
       "      <th>label</th>\n",
       "      <th>sentiment</th>\n",
       "      <th>lang</th>\n",
       "    </tr>\n",
       "  </thead>\n",
       "  <tbody>\n",
       "    <tr>\n",
       "      <th>28812</th>\n",
       "      <td>отличная рубашка. на размер 46- 48 брала xxl</td>\n",
       "      <td>1</td>\n",
       "      <td>positive</td>\n",
       "      <td>ru</td>\n",
       "    </tr>\n",
       "    <tr>\n",
       "      <th>28813</th>\n",
       "      <td>куртка отличная, тёплая, но еврозима...в ней о...</td>\n",
       "      <td>1</td>\n",
       "      <td>positive</td>\n",
       "      <td>ru</td>\n",
       "    </tr>\n",
       "    <tr>\n",
       "      <th>28814</th>\n",
       "      <td>Заказ шёл меньше месяца ,заказала 11.11 по цен...</td>\n",
       "      <td>1</td>\n",
       "      <td>positive</td>\n",
       "      <td>ru</td>\n",
       "    </tr>\n",
       "    <tr>\n",
       "      <th>28815</th>\n",
       "      <td>Товар не пришёл но деньги вернули</td>\n",
       "      <td>1</td>\n",
       "      <td>positive</td>\n",
       "      <td>ru</td>\n",
       "    </tr>\n",
       "    <tr>\n",
       "      <th>28816</th>\n",
       "      <td>отличная майка! пришла быстро!спасибо!</td>\n",
       "      <td>1</td>\n",
       "      <td>positive</td>\n",
       "      <td>ru</td>\n",
       "    </tr>\n",
       "  </tbody>\n",
       "</table>\n",
       "</div>"
      ],
      "text/plain": [
       "                                                    text  label sentiment lang\n",
       "28812       отличная рубашка. на размер 46- 48 брала xxl      1  positive   ru\n",
       "28813  куртка отличная, тёплая, но еврозима...в ней о...      1  positive   ru\n",
       "28814  Заказ шёл меньше месяца ,заказала 11.11 по цен...      1  positive   ru\n",
       "28815                 Товар не пришёл но деньги вернули       1  positive   ru\n",
       "28816             отличная майка! пришла быстро!спасибо!      1  positive   ru"
      ]
     },
     "execution_count": 6,
     "metadata": {},
     "output_type": "execute_result"
    }
   ],
   "source": [
    "# переименовываю таргеты в соответствии с пред датасетом\n",
    "\n",
    "eng_dataset['label'] = np.where(eng_dataset['sentiment']=='positive', 1, 0)\n",
    "eng_dataset.rename(columns={'tweet':'text'},inplace=True)\n",
    "eng_dataset['lang'] = 'eng'\n",
    "\n",
    "\n",
    "ru_dataset['label'] = np.where(ru_dataset['sentiment']=='positive', 1, 0)\n",
    "ru_dataset['lang'] = 'ru'\n",
    "ru_dataset.head()"
   ]
  },
  {
   "cell_type": "code",
   "execution_count": 7,
   "metadata": {},
   "outputs": [
    {
     "data": {
      "text/plain": [
       "sentiment  label\n",
       "positive   1        5892\n",
       "negative   0        2026\n",
       "Name: count, dtype: int64"
      ]
     },
     "execution_count": 7,
     "metadata": {},
     "output_type": "execute_result"
    }
   ],
   "source": [
    "eng_dataset[['sentiment','label']].value_counts()"
   ]
  },
  {
   "cell_type": "code",
   "execution_count": 13,
   "metadata": {},
   "outputs": [
    {
     "data": {
      "text/html": [
       "<div>\n",
       "<style scoped>\n",
       "    .dataframe tbody tr th:only-of-type {\n",
       "        vertical-align: middle;\n",
       "    }\n",
       "\n",
       "    .dataframe tbody tr th {\n",
       "        vertical-align: top;\n",
       "    }\n",
       "\n",
       "    .dataframe thead th {\n",
       "        text-align: right;\n",
       "    }\n",
       "</style>\n",
       "<table border=\"1\" class=\"dataframe\">\n",
       "  <thead>\n",
       "    <tr style=\"text-align: right;\">\n",
       "      <th></th>\n",
       "      <th>label</th>\n",
       "      <th>text</th>\n",
       "      <th>sentiment</th>\n",
       "      <th>lang</th>\n",
       "    </tr>\n",
       "  </thead>\n",
       "  <tbody>\n",
       "    <tr>\n",
       "      <th>0</th>\n",
       "      <td>1</td>\n",
       "      <td>#fingerprint #Pregnancy Test https://goo.gl/h1...</td>\n",
       "      <td>positive</td>\n",
       "      <td>eng</td>\n",
       "    </tr>\n",
       "    <tr>\n",
       "      <th>1</th>\n",
       "      <td>1</td>\n",
       "      <td>Finally a transparant silicon case ^^ Thanks t...</td>\n",
       "      <td>positive</td>\n",
       "      <td>eng</td>\n",
       "    </tr>\n",
       "    <tr>\n",
       "      <th>2</th>\n",
       "      <td>1</td>\n",
       "      <td>We love this! Would you go? #talk #makememorie...</td>\n",
       "      <td>positive</td>\n",
       "      <td>eng</td>\n",
       "    </tr>\n",
       "    <tr>\n",
       "      <th>3</th>\n",
       "      <td>1</td>\n",
       "      <td>I'm wired I know I'm George I was made that wa...</td>\n",
       "      <td>positive</td>\n",
       "      <td>eng</td>\n",
       "    </tr>\n",
       "    <tr>\n",
       "      <th>4</th>\n",
       "      <td>0</td>\n",
       "      <td>What amazing service! Apple won't even talk to...</td>\n",
       "      <td>negative</td>\n",
       "      <td>eng</td>\n",
       "    </tr>\n",
       "    <tr>\n",
       "      <th>...</th>\n",
       "      <td>...</td>\n",
       "      <td>...</td>\n",
       "      <td>...</td>\n",
       "      <td>...</td>\n",
       "    </tr>\n",
       "    <tr>\n",
       "      <th>201758</th>\n",
       "      <td>1</td>\n",
       "      <td>Как всегда вкусный и свежий.</td>\n",
       "      <td>positive</td>\n",
       "      <td>ru</td>\n",
       "    </tr>\n",
       "    <tr>\n",
       "      <th>201759</th>\n",
       "      <td>1</td>\n",
       "      <td>Обалденный!</td>\n",
       "      <td>positive</td>\n",
       "      <td>ru</td>\n",
       "    </tr>\n",
       "    <tr>\n",
       "      <th>201760</th>\n",
       "      <td>1</td>\n",
       "      <td>Достоинства:\\nВкусно, лучшая паста\\n\\nНедостат...</td>\n",
       "      <td>positive</td>\n",
       "      <td>ru</td>\n",
       "    </tr>\n",
       "    <tr>\n",
       "      <th>201761</th>\n",
       "      <td>1</td>\n",
       "      <td>Достоинства:\\nУвлажняет очень хорошо, и кожа к...</td>\n",
       "      <td>positive</td>\n",
       "      <td>ru</td>\n",
       "    </tr>\n",
       "    <tr>\n",
       "      <th>201762</th>\n",
       "      <td>1</td>\n",
       "      <td>Хорошее средство для чистки туалета моего кота</td>\n",
       "      <td>positive</td>\n",
       "      <td>ru</td>\n",
       "    </tr>\n",
       "  </tbody>\n",
       "</table>\n",
       "<p>201763 rows × 4 columns</p>\n",
       "</div>"
      ],
      "text/plain": [
       "        label                                               text sentiment  \\\n",
       "0           1  #fingerprint #Pregnancy Test https://goo.gl/h1...  positive   \n",
       "1           1  Finally a transparant silicon case ^^ Thanks t...  positive   \n",
       "2           1  We love this! Would you go? #talk #makememorie...  positive   \n",
       "3           1  I'm wired I know I'm George I was made that wa...  positive   \n",
       "4           0  What amazing service! Apple won't even talk to...  negative   \n",
       "...       ...                                                ...       ...   \n",
       "201758      1                       Как всегда вкусный и свежий.  positive   \n",
       "201759      1                                        Обалденный!  positive   \n",
       "201760      1  Достоинства:\\nВкусно, лучшая паста\\n\\nНедостат...  positive   \n",
       "201761      1  Достоинства:\\nУвлажняет очень хорошо, и кожа к...  positive   \n",
       "201762      1     Хорошее средство для чистки туалета моего кота  positive   \n",
       "\n",
       "       lang  \n",
       "0       eng  \n",
       "1       eng  \n",
       "2       eng  \n",
       "3       eng  \n",
       "4       eng  \n",
       "...     ...  \n",
       "201758   ru  \n",
       "201759   ru  \n",
       "201760   ru  \n",
       "201761   ru  \n",
       "201762   ru  \n",
       "\n",
       "[201763 rows x 4 columns]"
      ]
     },
     "execution_count": 13,
     "metadata": {},
     "output_type": "execute_result"
    }
   ],
   "source": [
    "df = pd.concat([eng_dataset, ru_dataset]).drop_duplicates().reset_index(drop=True)\n",
    "df"
   ]
  },
  {
   "cell_type": "markdown",
   "metadata": {
    "jp-MarkdownHeadingCollapsed": true
   },
   "source": [
    "## NLP: очистка и работа с текстами"
   ]
  },
  {
   "cell_type": "markdown",
   "metadata": {},
   "source": [
    "__Не применять стемминг/лемматизацию одинаково к обоим языкам — у них разные морфологические структуры.__\n",
    "\n",
    "Попробуем отдельно лемматизацию и стемминг и выберем лучший метод предобработки через grid_search. Чтобы обучение не занимало слишком долго, будем запускать grid_search на стратифицированной выборке из всего датасета. После выбора лучшей модели проведем цикл обучения на всех данных и замерим финальное качество.\n",
    "\n",
    "---\n",
    "\n",
    "__Раздельная векторизация по языкам (плохая идея)__\n",
    "\n",
    "Например: Определяем язык → векторизуем через en_model или ru_model\n",
    "\n",
    "Почему плохо:\n",
    "- Ошибки детекции языка (особенно на коротких текстах) → катастрофа\n",
    "- Нет общего пространства → модель видит два разных мира\n",
    "- Усложняет pipeline и deployment\n",
    "\n",
    "---\n",
    "__Перевод всех текстов на один язык (плохая идея)__\n",
    "\n",
    "Например: переводим всё на английский → векторизуем.\n",
    "\n",
    "Проблемы:\n",
    "- Перевод может исказить тональность (\"нормально\" → \"okay\" → нейтрально, хотя в контексте — негатив)\n",
    "- Требует API (Google Translate и т.п.) или локальной модели перевода\n",
    "- Дополнительная задержка и стоимость\n",
    "- 🚫 Избегайте, если только у вас нет очень надёжного переводчика и вы проверили, что тональность сохраняется. "
   ]
  },
  {
   "cell_type": "markdown",
   "metadata": {},
   "source": [
    "Важно: не применять агрессивную очистку! Особенно для твитов — эмодзи и пунктуация несут тональность.\n",
    "\n",
    "> Общие правила (для обоих языков):\n",
    "- Не удалять пунктуацию полностью → оставить ! ? . , —\n",
    "- Не приводить к нижнему регистру, если используем BERT/SBERT → они учитывают регистр\n",
    "- Не удалять эмодзи → они важны для тональности (особенно в твитах)\n",
    "- Не удалять хештеги полностью → можно заменить #good → good"
   ]
  },
  {
   "cell_type": "code",
   "execution_count": 14,
   "metadata": {},
   "outputs": [],
   "source": [
    "import re\n",
    "\n",
    "def preprocess_text(text):\n",
    "    # Удаляем лишние пробелы, переносы, табы\n",
    "    text = re.sub(r\"\\n|\\t|^\", \" \", text).strip()\n",
    "    text = re.sub(r\"\\s+\", \" \", text).strip()\n",
    "    # Оставляем всё остальное: эмодзи, пунктуацию, хештеги, капс\n",
    "    return text\n",
    "\n",
    "df[\"text_clean\"] = df[\"text\"].apply(preprocess_text)"
   ]
  },
  {
   "cell_type": "code",
   "execution_count": 15,
   "metadata": {},
   "outputs": [
    {
     "data": {
      "text/html": [
       "<div>\n",
       "<style scoped>\n",
       "    .dataframe tbody tr th:only-of-type {\n",
       "        vertical-align: middle;\n",
       "    }\n",
       "\n",
       "    .dataframe tbody tr th {\n",
       "        vertical-align: top;\n",
       "    }\n",
       "\n",
       "    .dataframe thead th {\n",
       "        text-align: right;\n",
       "    }\n",
       "</style>\n",
       "<table border=\"1\" class=\"dataframe\">\n",
       "  <thead>\n",
       "    <tr style=\"text-align: right;\">\n",
       "      <th></th>\n",
       "      <th>label</th>\n",
       "      <th>text</th>\n",
       "      <th>sentiment</th>\n",
       "      <th>lang</th>\n",
       "      <th>text_clean</th>\n",
       "    </tr>\n",
       "  </thead>\n",
       "  <tbody>\n",
       "    <tr>\n",
       "      <th>0</th>\n",
       "      <td>1</td>\n",
       "      <td>#fingerprint #Pregnancy Test https://goo.gl/h1...</td>\n",
       "      <td>positive</td>\n",
       "      <td>eng</td>\n",
       "      <td>#fingerprint #Pregnancy Test https://goo.gl/h1...</td>\n",
       "    </tr>\n",
       "    <tr>\n",
       "      <th>1</th>\n",
       "      <td>1</td>\n",
       "      <td>Finally a transparant silicon case ^^ Thanks t...</td>\n",
       "      <td>positive</td>\n",
       "      <td>eng</td>\n",
       "      <td>Finally a transparant silicon case ^^ Thanks t...</td>\n",
       "    </tr>\n",
       "    <tr>\n",
       "      <th>2</th>\n",
       "      <td>1</td>\n",
       "      <td>We love this! Would you go? #talk #makememorie...</td>\n",
       "      <td>positive</td>\n",
       "      <td>eng</td>\n",
       "      <td>We love this! Would you go? #talk #makememorie...</td>\n",
       "    </tr>\n",
       "    <tr>\n",
       "      <th>3</th>\n",
       "      <td>1</td>\n",
       "      <td>I'm wired I know I'm George I was made that wa...</td>\n",
       "      <td>positive</td>\n",
       "      <td>eng</td>\n",
       "      <td>I'm wired I know I'm George I was made that wa...</td>\n",
       "    </tr>\n",
       "    <tr>\n",
       "      <th>4</th>\n",
       "      <td>0</td>\n",
       "      <td>What amazing service! Apple won't even talk to...</td>\n",
       "      <td>negative</td>\n",
       "      <td>eng</td>\n",
       "      <td>What amazing service! Apple won't even talk to...</td>\n",
       "    </tr>\n",
       "  </tbody>\n",
       "</table>\n",
       "</div>"
      ],
      "text/plain": [
       "   label                                               text sentiment lang  \\\n",
       "0      1  #fingerprint #Pregnancy Test https://goo.gl/h1...  positive  eng   \n",
       "1      1  Finally a transparant silicon case ^^ Thanks t...  positive  eng   \n",
       "2      1  We love this! Would you go? #talk #makememorie...  positive  eng   \n",
       "3      1  I'm wired I know I'm George I was made that wa...  positive  eng   \n",
       "4      0  What amazing service! Apple won't even talk to...  negative  eng   \n",
       "\n",
       "                                          text_clean  \n",
       "0  #fingerprint #Pregnancy Test https://goo.gl/h1...  \n",
       "1  Finally a transparant silicon case ^^ Thanks t...  \n",
       "2  We love this! Would you go? #talk #makememorie...  \n",
       "3  I'm wired I know I'm George I was made that wa...  \n",
       "4  What amazing service! Apple won't even talk to...  "
      ]
     },
     "execution_count": 15,
     "metadata": {},
     "output_type": "execute_result"
    }
   ],
   "source": [
    "df.head()"
   ]
  },
  {
   "cell_type": "code",
   "execution_count": 73,
   "metadata": {},
   "outputs": [],
   "source": [
    "df.to_csv('../data/processed/dataset.csv', index=False, encoding='utf-8')"
   ]
  },
  {
   "cell_type": "markdown",
   "metadata": {
    "jp-MarkdownHeadingCollapsed": true
   },
   "source": [
    "## ВЫХОД: Мультиязычные предобученные эмбеддинги\n",
    "\n",
    "Эти модели уже обучены на десятках языков, включая английский и русский, и проецируют слова/предложения в единое семантическое пространство.\n",
    "\n",
    "🔹 Sentence-BERT (SBERT) — multilingual\n",
    "- Модель: paraphrase-multilingual-MiniLM-L12-v2\n",
    "- Поддержка: 50+ языков\n",
    "- Размер вектора: 384\n",
    "- Быстрая, точная, не требует GPU для инференса"
   ]
  },
  {
   "cell_type": "code",
   "execution_count": 17,
   "metadata": {},
   "outputs": [],
   "source": [
    "from sentence_transformers import SentenceTransformer\n",
    "\n",
    "model = SentenceTransformer('paraphrase-multilingual-MiniLM-L12-v2')"
   ]
  },
  {
   "cell_type": "code",
   "execution_count": 18,
   "metadata": {
    "scrolled": true
   },
   "outputs": [
    {
     "data": {
      "application/vnd.jupyter.widget-view+json": {
       "model_id": "9fa4a9e33e704bc28643d909c01664f8",
       "version_major": 2,
       "version_minor": 0
      },
      "text/plain": [
       "Batches:   0%|          | 0/6306 [00:00<?, ?it/s]"
      ]
     },
     "metadata": {},
     "output_type": "display_data"
    }
   ],
   "source": [
    "embeddings = model.encode(df[\"text_clean\"].tolist(), show_progress_bar=True)"
   ]
  },
  {
   "cell_type": "code",
   "execution_count": 77,
   "metadata": {},
   "outputs": [],
   "source": [
    "joblib.dump(embeddings, '../data/processed/embeddings.joblib')\n",
    "loaded_embeddings_joblib = joblib.load('../data/processed/embeddings.joblib')"
   ]
  },
  {
   "cell_type": "code",
   "execution_count": 79,
   "metadata": {},
   "outputs": [
    {
     "data": {
      "text/plain": [
       "(array([[-0.38073477,  0.11151027, -0.12714367, ..., -0.01822866,\n",
       "          0.05654086,  0.09536211],\n",
       "        [-0.1488603 ,  0.1367309 ,  0.2107986 , ..., -0.18557973,\n",
       "         -0.00922961,  0.23170094],\n",
       "        [ 0.22882608,  0.0804246 ,  0.07783591, ...,  0.01822011,\n",
       "         -0.2545242 ,  0.21768643],\n",
       "        ...,\n",
       "        [-0.03400167, -0.1801913 ,  0.01809901, ..., -0.03281219,\n",
       "          0.21203247, -0.01843319],\n",
       "        [ 0.01242489,  0.17071086,  0.20759444, ..., -0.24555427,\n",
       "         -0.04627763,  0.1787445 ],\n",
       "        [ 0.1438709 , -0.2906793 ,  0.10057383, ...,  0.03361565,\n",
       "          0.1939716 ,  0.19496553]], dtype=float32),\n",
       " array([[-0.38073477,  0.11151027, -0.12714367, ..., -0.01822866,\n",
       "          0.05654086,  0.09536211],\n",
       "        [-0.1488603 ,  0.1367309 ,  0.2107986 , ..., -0.18557973,\n",
       "         -0.00922961,  0.23170094],\n",
       "        [ 0.22882608,  0.0804246 ,  0.07783591, ...,  0.01822011,\n",
       "         -0.2545242 ,  0.21768643],\n",
       "        ...,\n",
       "        [-0.03400167, -0.1801913 ,  0.01809901, ..., -0.03281219,\n",
       "          0.21203247, -0.01843319],\n",
       "        [ 0.01242489,  0.17071086,  0.20759444, ..., -0.24555427,\n",
       "         -0.04627763,  0.1787445 ],\n",
       "        [ 0.1438709 , -0.2906793 ,  0.10057383, ...,  0.03361565,\n",
       "          0.1939716 ,  0.19496553]], dtype=float32))"
      ]
     },
     "execution_count": 79,
     "metadata": {},
     "output_type": "execute_result"
    }
   ],
   "source": [
    "embeddings, loaded_embeddings_joblib"
   ]
  },
  {
   "cell_type": "markdown",
   "metadata": {
    "jp-MarkdownHeadingCollapsed": true
   },
   "source": [
    "## Делим выборку на train, val, test"
   ]
  },
  {
   "cell_type": "code",
   "execution_count": 20,
   "metadata": {},
   "outputs": [
    {
     "name": "stdout",
     "output_type": "stream",
     "text": [
      "Train: 129128 Val: 32282 Test: 40353\n",
      "Test language balance: lang\n",
      "ru     38723\n",
      "eng     1630\n",
      "Name: count, dtype: int64\n"
     ]
    }
   ],
   "source": [
    "from sklearn.model_selection import train_test_split\n",
    "\n",
    "# Сначала выделим test (20%)\n",
    "train_val, test = train_test_split(\n",
    "    df,\n",
    "    test_size=0.2,\n",
    "    stratify=df[\"label\"],  # сохраняем баланс меток\n",
    "    random_state=42\n",
    ")\n",
    "\n",
    "# Затем val из train_val (20% от оставшегося = ~16% от общего)\n",
    "train, val = train_test_split(\n",
    "    train_val,\n",
    "    test_size=0.2,\n",
    "    stratify=train_val[\"label\"],\n",
    "    random_state=42\n",
    ")\n",
    "\n",
    "print(\"Train:\", len(train), \"Val:\", len(val), \"Test:\", len(test))\n",
    "print(\"Test language balance:\", test[\"lang\"].value_counts())"
   ]
  },
  {
   "cell_type": "code",
   "execution_count": 33,
   "metadata": {},
   "outputs": [],
   "source": [
    "X_train = embeddings[train.index]\n",
    "y_train = train[\"label\"]\n",
    "\n",
    "X_val = embeddings[val.index]\n",
    "y_val = val[\"label\"]\n",
    "\n",
    "X_test = embeddings[test.index]\n",
    "y_test = test[\"label\"]"
   ]
  },
  {
   "cell_type": "markdown",
   "metadata": {},
   "source": [
    "# **Обучение ML моделей**"
   ]
  },
  {
   "cell_type": "markdown",
   "metadata": {},
   "source": [
    "В данном параграфе проводится выбор оптимальной модели классического ML"
   ]
  },
  {
   "cell_type": "code",
   "execution_count": 38,
   "metadata": {},
   "outputs": [],
   "source": [
    "import os\n",
    "os.environ[\"TOKENIZERS_PARALLELISM\"] = \"false\""
   ]
  },
  {
   "cell_type": "code",
   "execution_count": null,
   "metadata": {},
   "outputs": [],
   "source": [
    "!pip3 install catboost lightgbm tqdm"
   ]
  },
  {
   "cell_type": "code",
   "execution_count": 70,
   "metadata": {},
   "outputs": [
    {
     "name": "stdout",
     "output_type": "stream",
     "text": [
      "              precision    recall  f1-score   support\n",
      "\n",
      "           0       0.84      0.87      0.86     19801\n",
      "           1       0.87      0.84      0.85     20552\n",
      "\n",
      "    accuracy                           0.86     40353\n",
      "   macro avg       0.86      0.86      0.86     40353\n",
      "weighted avg       0.86      0.86      0.86     40353\n",
      "\n"
     ]
    }
   ],
   "source": [
    "from sklearn.model_selection import GridSearchCV, StratifiedKFold\n",
    "from sklearn.linear_model import LogisticRegression\n",
    "from sklearn.svm import LinearSVC\n",
    "from sklearn.ensemble import RandomForestClassifier\n",
    "from sklearn.tree import DecisionTreeClassifier\n",
    "from lightgbm import LGBMClassifier\n",
    "from catboost import CatBoostClassifier\n",
    "\n",
    "from sklearn.metrics import classification_report, confusion_matrix\n",
    "from sklearn.metrics import f1_score, accuracy_score, ConfusionMatrixDisplay\n",
    "from tqdm.auto import tqdm\n",
    "import time\n",
    "import matplotlib.pyplot as plt\n",
    "\n",
    "import warnings\n",
    "warnings.filterwarnings(\"ignore\", message=\"divide by zero encountered in matmul\")\n",
    "\n",
    "# Пример: CatBoost\n",
    "cb = CatBoostClassifier(\n",
    "    iterations=100,\n",
    "    learning_rate=0.05,\n",
    "    depth=6,\n",
    "    verbose=0,\n",
    "    random_seed=42,\n",
    "    eval_metric=\"Accuracy\"\n",
    ")\n",
    "\n",
    "cb.fit(X_train, y_train, eval_set=(embeddings[val.index], val[\"label\"]))\n",
    "preds = cb.predict(X_test)\n",
    "print(classification_report(y_test, preds))"
   ]
  },
  {
   "cell_type": "code",
   "execution_count": 56,
   "metadata": {},
   "outputs": [],
   "source": [
    "def grid_training(X_train, y_train, X_val=None, y_val=None, scoring='f1', model_name='all'):\n",
    "    \"\"\"\n",
    "    Подбор гиперпараметров для нескольких моделей и выбор лучшей по метрике.\n",
    "    \n",
    "    Параметры:\n",
    "    - X_train, y_train: обучающие данные\n",
    "    - X_val, y_val: валидационные данные (опционально, для финальной оценки)\n",
    "    - scoring: метрика для GridSearch ('f1', 'accuracy', 'roc_auc' и т.д.)\n",
    "    \n",
    "    Возвращает:\n",
    "    - best_model: обученная лучшая модель\n",
    "    - results_df: DataFrame с результатами всех моделей\n",
    "    \"\"\"\n",
    "    \n",
    "    # Сетки гиперпараметров (можно расширить)\n",
    "    param_grids = {\n",
    "        'LogisticRegression': {\n",
    "            'C': [0.1, 1, 10],\n",
    "            'penalty': ['l2'],\n",
    "            'solver': ['liblinear', 'saga']\n",
    "        },\n",
    "        'LinearSVC': {\n",
    "            'C': [0.1, 1, 10],          # основной параметр регуляризации\n",
    "            'penalty': ['l2'],                      # l2 — стандарт, устойчив к переобучению\n",
    "            'loss': ['squared_hinge'],              # squared_hinge работает лучше hinge\n",
    "            'max_iter': [2000],\n",
    "            'class_weight': [None, 'balanced']\n",
    "        },\n",
    "        'RandomForestClassifier': {\n",
    "            'n_estimators': [100, 200],\n",
    "            'max_depth': [None, 10, 20]\n",
    "        },\n",
    "        'DecisionTreeClassifier': {\n",
    "            'max_depth': [None, 10, 20],\n",
    "            'min_samples_split': [2, 5]\n",
    "        },\n",
    "        'LGBMClassifier': {\n",
    "            'n_estimators': [50, 100, 200],\n",
    "            'learning_rate': [0.01, 0.1, 0.2],\n",
    "            'num_leaves': [10, 31, 50],\n",
    "            'max_depth': [3, 5, 7],\n",
    "            'verbose': [-1]\n",
    "        },\n",
    "        'CatBoostClassifier': {\n",
    "            'iterations': [100, 200],\n",
    "            'learning_rate': [0.01, 0.1, 0.2],\n",
    "            'depth': [3, 5, 7]\n",
    "        }\n",
    "    }\n",
    "\n",
    "    all_models = {\n",
    "        'LogisticRegression': LogisticRegression(max_iter=1000, random_state=42),\n",
    "        'LinearSVC': LinearSVC(random_state=42),\n",
    "        'RandomForestClassifier': RandomForestClassifier(random_state=42),\n",
    "        'DecisionTreeClassifier': DecisionTreeClassifier(random_state=42),\n",
    "        'LGBMClassifier': LGBMClassifier(objective='binary',random_state=42),\n",
    "        'CatBoostClassifier': CatBoostClassifier(random_seed=42,silent=True)\n",
    "    }\n",
    "\n",
    "    models={}\n",
    "    if model_name!='all':\n",
    "        if model_name in list(all_models.keys()):\n",
    "            models[model_name] = all_models[model_name]\n",
    "        else:\n",
    "            raise Exception(\"Такой модели нет в списке!\")\n",
    "    else:\n",
    "        models = all_models\n",
    "    \n",
    "    \n",
    "    results = []\n",
    "    best_score = -1\n",
    "    best_model = None\n",
    "    best_name = None\n",
    "\n",
    "    cv = StratifiedKFold(n_splits=2, shuffle=True, random_state=42)\n",
    "\n",
    "    # Прогресс-бар по моделям\n",
    "    for name in tqdm(models.keys(), desc=\"Подбор моделей\", total=len(models)):\n",
    "        model = models[name]\n",
    "        print(f\"\\n[+] Обработка модели: {name}\")\n",
    "        \n",
    "        start_time = time.time()\n",
    "        \n",
    "        try:\n",
    "            grid = GridSearchCV(\n",
    "                estimator=model,\n",
    "                param_grid=param_grids[name],\n",
    "                cv=cv,\n",
    "                scoring=scoring,\n",
    "                n_jobs=-1,\n",
    "                verbose=0\n",
    "            )\n",
    "            \n",
    "            grid.fit(X_train, y_train)\n",
    "            train_time = time.time() - start_time\n",
    "\n",
    "            # Оценка на валидации\n",
    "            val_score = None\n",
    "            if X_val is not None and y_val is not None:\n",
    "                y_pred_val = grid.predict(X_val)\n",
    "                average = 'binary' if len(set(y_train)) == 2 else 'macro'\n",
    "                val_score = f1_score(y_val, y_pred_val, average=average)\n",
    "\n",
    "            results.append({\n",
    "                'model': name,\n",
    "                'best_params': grid.best_params_,\n",
    "                'cv_score': grid.best_score_,\n",
    "                'val_score': val_score,\n",
    "                'train_time_sec': round(train_time, 2),\n",
    "                'best_estimator': grid.best_estimator_\n",
    "            })\n",
    "\n",
    "            print(f\"    → CV {scoring}: {grid.best_score_:.4f} | Время: {train_time:.2f} сек\")\n",
    "            if val_score is not None:\n",
    "                print(f\"    → Val F1: {val_score:.4f}\")\n",
    "\n",
    "            if grid.best_score_ > best_score:\n",
    "                best_score = grid.best_score_\n",
    "                best_model = grid.best_estimator_\n",
    "                best_name = name\n",
    "\n",
    "        except Exception as e:\n",
    "            train_time = time.time() - start_time\n",
    "            print(f\"Ошибка при обучении {name}: {str(e)}\")\n",
    "            results.append({\n",
    "                'model': name,\n",
    "                'best_params': None,\n",
    "                'cv_score': None,\n",
    "                'val_score': None,\n",
    "                'train_time_sec': round(train_time, 2),\n",
    "                'best_estimator': None\n",
    "            })\n",
    "\n",
    "    results_df = pd.DataFrame(results)\n",
    "    print(f\"\\nЛучшая модель: {best_name} (CV {scoring} = {best_score:.4f})\")\n",
    "\n",
    "    # Вывод сводной таблицы\n",
    "    summary = results_df[['model', 'cv_score', 'val_score', 'train_time_sec']].copy()\n",
    "    summary = summary.sort_values('cv_score', ascending=False)\n",
    "    print(\"\\nСводка по моделям:\")\n",
    "    print(summary.to_string(index=False, float_format=\"%.4f\"))\n",
    "\n",
    "    return best_model, results_df"
   ]
  },
  {
   "cell_type": "code",
   "execution_count": 50,
   "metadata": {
    "scrolled": true
   },
   "outputs": [
    {
     "data": {
      "application/vnd.jupyter.widget-view+json": {
       "model_id": "79cb7031b3884fd38691699da0aee53d",
       "version_major": 2,
       "version_minor": 0
      },
      "text/plain": [
       "Подбор моделей:   0%|          | 0/6 [00:00<?, ?it/s]"
      ]
     },
     "metadata": {},
     "output_type": "display_data"
    },
    {
     "name": "stdout",
     "output_type": "stream",
     "text": [
      "\n",
      "[+] Обработка модели: LogisticRegression\n"
     ]
    },
    {
     "name": "stderr",
     "output_type": "stream",
     "text": [
      "/Users/yaseminkhertek/Учеба/НОД/sentiment-classification-model/venv/lib/python3.9/site-packages/sklearn/utils/extmath.py:203: RuntimeWarning: divide by zero encountered in matmul\n",
      "  ret = a @ b\n",
      "/Users/yaseminkhertek/Учеба/НОД/sentiment-classification-model/venv/lib/python3.9/site-packages/sklearn/utils/extmath.py:203: RuntimeWarning: overflow encountered in matmul\n",
      "  ret = a @ b\n",
      "/Users/yaseminkhertek/Учеба/НОД/sentiment-classification-model/venv/lib/python3.9/site-packages/sklearn/utils/extmath.py:203: RuntimeWarning: invalid value encountered in matmul\n",
      "  ret = a @ b\n",
      "/Users/yaseminkhertek/Учеба/НОД/sentiment-classification-model/venv/lib/python3.9/site-packages/sklearn/utils/extmath.py:203: RuntimeWarning: divide by zero encountered in matmul\n",
      "  ret = a @ b\n",
      "/Users/yaseminkhertek/Учеба/НОД/sentiment-classification-model/venv/lib/python3.9/site-packages/sklearn/utils/extmath.py:203: RuntimeWarning: overflow encountered in matmul\n",
      "  ret = a @ b\n",
      "/Users/yaseminkhertek/Учеба/НОД/sentiment-classification-model/venv/lib/python3.9/site-packages/sklearn/utils/extmath.py:203: RuntimeWarning: invalid value encountered in matmul\n",
      "  ret = a @ b\n",
      "/Users/yaseminkhertek/Учеба/НОД/sentiment-classification-model/venv/lib/python3.9/site-packages/sklearn/utils/extmath.py:203: RuntimeWarning: divide by zero encountered in matmul\n",
      "  ret = a @ b\n",
      "/Users/yaseminkhertek/Учеба/НОД/sentiment-classification-model/venv/lib/python3.9/site-packages/sklearn/utils/extmath.py:203: RuntimeWarning: overflow encountered in matmul\n",
      "  ret = a @ b\n",
      "/Users/yaseminkhertek/Учеба/НОД/sentiment-classification-model/venv/lib/python3.9/site-packages/sklearn/utils/extmath.py:203: RuntimeWarning: invalid value encountered in matmul\n",
      "  ret = a @ b\n",
      "/Users/yaseminkhertek/Учеба/НОД/sentiment-classification-model/venv/lib/python3.9/site-packages/sklearn/utils/extmath.py:203: RuntimeWarning: divide by zero encountered in matmul\n",
      "  ret = a @ b\n",
      "/Users/yaseminkhertek/Учеба/НОД/sentiment-classification-model/venv/lib/python3.9/site-packages/sklearn/utils/extmath.py:203: RuntimeWarning: overflow encountered in matmul\n",
      "  ret = a @ b\n",
      "/Users/yaseminkhertek/Учеба/НОД/sentiment-classification-model/venv/lib/python3.9/site-packages/sklearn/utils/extmath.py:203: RuntimeWarning: invalid value encountered in matmul\n",
      "  ret = a @ b\n",
      "/Users/yaseminkhertek/Учеба/НОД/sentiment-classification-model/venv/lib/python3.9/site-packages/sklearn/utils/extmath.py:203: RuntimeWarning: divide by zero encountered in matmul\n",
      "  ret = a @ b\n",
      "/Users/yaseminkhertek/Учеба/НОД/sentiment-classification-model/venv/lib/python3.9/site-packages/sklearn/utils/extmath.py:203: RuntimeWarning: overflow encountered in matmul\n",
      "  ret = a @ b\n",
      "/Users/yaseminkhertek/Учеба/НОД/sentiment-classification-model/venv/lib/python3.9/site-packages/sklearn/utils/extmath.py:203: RuntimeWarning: invalid value encountered in matmul\n",
      "  ret = a @ b\n",
      "/Users/yaseminkhertek/Учеба/НОД/sentiment-classification-model/venv/lib/python3.9/site-packages/sklearn/utils/extmath.py:203: RuntimeWarning: divide by zero encountered in matmul\n",
      "  ret = a @ b\n",
      "/Users/yaseminkhertek/Учеба/НОД/sentiment-classification-model/venv/lib/python3.9/site-packages/sklearn/utils/extmath.py:203: RuntimeWarning: overflow encountered in matmul\n",
      "  ret = a @ b\n",
      "/Users/yaseminkhertek/Учеба/НОД/sentiment-classification-model/venv/lib/python3.9/site-packages/sklearn/utils/extmath.py:203: RuntimeWarning: invalid value encountered in matmul\n",
      "  ret = a @ b\n",
      "/Users/yaseminkhertek/Учеба/НОД/sentiment-classification-model/venv/lib/python3.9/site-packages/sklearn/utils/extmath.py:203: RuntimeWarning: divide by zero encountered in matmul\n",
      "  ret = a @ b\n",
      "/Users/yaseminkhertek/Учеба/НОД/sentiment-classification-model/venv/lib/python3.9/site-packages/sklearn/utils/extmath.py:203: RuntimeWarning: overflow encountered in matmul\n",
      "  ret = a @ b\n",
      "/Users/yaseminkhertek/Учеба/НОД/sentiment-classification-model/venv/lib/python3.9/site-packages/sklearn/utils/extmath.py:203: RuntimeWarning: invalid value encountered in matmul\n",
      "  ret = a @ b\n",
      "/Users/yaseminkhertek/Учеба/НОД/sentiment-classification-model/venv/lib/python3.9/site-packages/sklearn/utils/extmath.py:203: RuntimeWarning: divide by zero encountered in matmul\n",
      "  ret = a @ b\n",
      "/Users/yaseminkhertek/Учеба/НОД/sentiment-classification-model/venv/lib/python3.9/site-packages/sklearn/utils/extmath.py:203: RuntimeWarning: overflow encountered in matmul\n",
      "  ret = a @ b\n",
      "/Users/yaseminkhertek/Учеба/НОД/sentiment-classification-model/venv/lib/python3.9/site-packages/sklearn/utils/extmath.py:203: RuntimeWarning: invalid value encountered in matmul\n",
      "  ret = a @ b\n",
      "/Users/yaseminkhertek/Учеба/НОД/sentiment-classification-model/venv/lib/python3.9/site-packages/sklearn/utils/extmath.py:203: RuntimeWarning: divide by zero encountered in matmul\n",
      "  ret = a @ b\n",
      "/Users/yaseminkhertek/Учеба/НОД/sentiment-classification-model/venv/lib/python3.9/site-packages/sklearn/utils/extmath.py:203: RuntimeWarning: overflow encountered in matmul\n",
      "  ret = a @ b\n",
      "/Users/yaseminkhertek/Учеба/НОД/sentiment-classification-model/venv/lib/python3.9/site-packages/sklearn/utils/extmath.py:203: RuntimeWarning: invalid value encountered in matmul\n",
      "  ret = a @ b\n",
      "/Users/yaseminkhertek/Учеба/НОД/sentiment-classification-model/venv/lib/python3.9/site-packages/sklearn/utils/extmath.py:203: RuntimeWarning: divide by zero encountered in matmul\n",
      "  ret = a @ b\n",
      "/Users/yaseminkhertek/Учеба/НОД/sentiment-classification-model/venv/lib/python3.9/site-packages/sklearn/utils/extmath.py:203: RuntimeWarning: overflow encountered in matmul\n",
      "  ret = a @ b\n",
      "/Users/yaseminkhertek/Учеба/НОД/sentiment-classification-model/venv/lib/python3.9/site-packages/sklearn/utils/extmath.py:203: RuntimeWarning: invalid value encountered in matmul\n",
      "  ret = a @ b\n",
      "/Users/yaseminkhertek/Учеба/НОД/sentiment-classification-model/venv/lib/python3.9/site-packages/sklearn/linear_model/_sag.py:348: ConvergenceWarning: The max_iter was reached which means the coef_ did not converge\n",
      "  warnings.warn(\n",
      "/Users/yaseminkhertek/Учеба/НОД/sentiment-classification-model/venv/lib/python3.9/site-packages/sklearn/utils/extmath.py:203: RuntimeWarning: divide by zero encountered in matmul\n",
      "  ret = a @ b\n",
      "/Users/yaseminkhertek/Учеба/НОД/sentiment-classification-model/venv/lib/python3.9/site-packages/sklearn/utils/extmath.py:203: RuntimeWarning: overflow encountered in matmul\n",
      "  ret = a @ b\n",
      "/Users/yaseminkhertek/Учеба/НОД/sentiment-classification-model/venv/lib/python3.9/site-packages/sklearn/utils/extmath.py:203: RuntimeWarning: invalid value encountered in matmul\n",
      "  ret = a @ b\n",
      "/Users/yaseminkhertek/Учеба/НОД/sentiment-classification-model/venv/lib/python3.9/site-packages/sklearn/linear_model/_sag.py:348: ConvergenceWarning: The max_iter was reached which means the coef_ did not converge\n",
      "  warnings.warn(\n",
      "/Users/yaseminkhertek/Учеба/НОД/sentiment-classification-model/venv/lib/python3.9/site-packages/sklearn/utils/extmath.py:203: RuntimeWarning: divide by zero encountered in matmul\n",
      "  ret = a @ b\n",
      "/Users/yaseminkhertek/Учеба/НОД/sentiment-classification-model/venv/lib/python3.9/site-packages/sklearn/utils/extmath.py:203: RuntimeWarning: overflow encountered in matmul\n",
      "  ret = a @ b\n",
      "/Users/yaseminkhertek/Учеба/НОД/sentiment-classification-model/venv/lib/python3.9/site-packages/sklearn/utils/extmath.py:203: RuntimeWarning: invalid value encountered in matmul\n",
      "  ret = a @ b\n"
     ]
    },
    {
     "name": "stdout",
     "output_type": "stream",
     "text": [
      "    → CV f1: 0.8721 | Время: 109.23 сек\n",
      "    → Val F1: 0.8715\n",
      "\n",
      "[+] Обработка модели: LinearSVC\n"
     ]
    },
    {
     "name": "stderr",
     "output_type": "stream",
     "text": [
      "/Users/yaseminkhertek/Учеба/НОД/sentiment-classification-model/venv/lib/python3.9/site-packages/sklearn/utils/extmath.py:203: RuntimeWarning: divide by zero encountered in matmul\n",
      "  ret = a @ b\n",
      "/Users/yaseminkhertek/Учеба/НОД/sentiment-classification-model/venv/lib/python3.9/site-packages/sklearn/utils/extmath.py:203: RuntimeWarning: overflow encountered in matmul\n",
      "  ret = a @ b\n",
      "/Users/yaseminkhertek/Учеба/НОД/sentiment-classification-model/venv/lib/python3.9/site-packages/sklearn/utils/extmath.py:203: RuntimeWarning: invalid value encountered in matmul\n",
      "  ret = a @ b\n",
      "/Users/yaseminkhertek/Учеба/НОД/sentiment-classification-model/venv/lib/python3.9/site-packages/sklearn/utils/extmath.py:203: RuntimeWarning: divide by zero encountered in matmul\n",
      "  ret = a @ b\n",
      "/Users/yaseminkhertek/Учеба/НОД/sentiment-classification-model/venv/lib/python3.9/site-packages/sklearn/utils/extmath.py:203: RuntimeWarning: overflow encountered in matmul\n",
      "  ret = a @ b\n",
      "/Users/yaseminkhertek/Учеба/НОД/sentiment-classification-model/venv/lib/python3.9/site-packages/sklearn/utils/extmath.py:203: RuntimeWarning: invalid value encountered in matmul\n",
      "  ret = a @ b\n",
      "/Users/yaseminkhertek/Учеба/НОД/sentiment-classification-model/venv/lib/python3.9/site-packages/sklearn/utils/extmath.py:203: RuntimeWarning: divide by zero encountered in matmul\n",
      "  ret = a @ b\n",
      "/Users/yaseminkhertek/Учеба/НОД/sentiment-classification-model/venv/lib/python3.9/site-packages/sklearn/utils/extmath.py:203: RuntimeWarning: overflow encountered in matmul\n",
      "  ret = a @ b\n",
      "/Users/yaseminkhertek/Учеба/НОД/sentiment-classification-model/venv/lib/python3.9/site-packages/sklearn/utils/extmath.py:203: RuntimeWarning: invalid value encountered in matmul\n",
      "  ret = a @ b\n",
      "/Users/yaseminkhertek/Учеба/НОД/sentiment-classification-model/venv/lib/python3.9/site-packages/sklearn/utils/extmath.py:203: RuntimeWarning: divide by zero encountered in matmul\n",
      "  ret = a @ b\n",
      "/Users/yaseminkhertek/Учеба/НОД/sentiment-classification-model/venv/lib/python3.9/site-packages/sklearn/utils/extmath.py:203: RuntimeWarning: overflow encountered in matmul\n",
      "  ret = a @ b\n",
      "/Users/yaseminkhertek/Учеба/НОД/sentiment-classification-model/venv/lib/python3.9/site-packages/sklearn/utils/extmath.py:203: RuntimeWarning: invalid value encountered in matmul\n",
      "  ret = a @ b\n",
      "/Users/yaseminkhertek/Учеба/НОД/sentiment-classification-model/venv/lib/python3.9/site-packages/sklearn/utils/extmath.py:203: RuntimeWarning: divide by zero encountered in matmul\n",
      "  ret = a @ b\n",
      "/Users/yaseminkhertek/Учеба/НОД/sentiment-classification-model/venv/lib/python3.9/site-packages/sklearn/utils/extmath.py:203: RuntimeWarning: overflow encountered in matmul\n",
      "  ret = a @ b\n",
      "/Users/yaseminkhertek/Учеба/НОД/sentiment-classification-model/venv/lib/python3.9/site-packages/sklearn/utils/extmath.py:203: RuntimeWarning: invalid value encountered in matmul\n",
      "  ret = a @ b\n",
      "/Users/yaseminkhertek/Учеба/НОД/sentiment-classification-model/venv/lib/python3.9/site-packages/sklearn/utils/extmath.py:203: RuntimeWarning: divide by zero encountered in matmul\n",
      "  ret = a @ b\n",
      "/Users/yaseminkhertek/Учеба/НОД/sentiment-classification-model/venv/lib/python3.9/site-packages/sklearn/utils/extmath.py:203: RuntimeWarning: overflow encountered in matmul\n",
      "  ret = a @ b\n",
      "/Users/yaseminkhertek/Учеба/НОД/sentiment-classification-model/venv/lib/python3.9/site-packages/sklearn/utils/extmath.py:203: RuntimeWarning: invalid value encountered in matmul\n",
      "  ret = a @ b\n",
      "/Users/yaseminkhertek/Учеба/НОД/sentiment-classification-model/venv/lib/python3.9/site-packages/sklearn/utils/extmath.py:203: RuntimeWarning: divide by zero encountered in matmul\n",
      "  ret = a @ b\n",
      "/Users/yaseminkhertek/Учеба/НОД/sentiment-classification-model/venv/lib/python3.9/site-packages/sklearn/utils/extmath.py:203: RuntimeWarning: overflow encountered in matmul\n",
      "  ret = a @ b\n",
      "/Users/yaseminkhertek/Учеба/НОД/sentiment-classification-model/venv/lib/python3.9/site-packages/sklearn/utils/extmath.py:203: RuntimeWarning: invalid value encountered in matmul\n",
      "  ret = a @ b\n",
      "/Users/yaseminkhertek/Учеба/НОД/sentiment-classification-model/venv/lib/python3.9/site-packages/sklearn/utils/extmath.py:203: RuntimeWarning: divide by zero encountered in matmul\n",
      "  ret = a @ b\n",
      "/Users/yaseminkhertek/Учеба/НОД/sentiment-classification-model/venv/lib/python3.9/site-packages/sklearn/utils/extmath.py:203: RuntimeWarning: overflow encountered in matmul\n",
      "  ret = a @ b\n",
      "/Users/yaseminkhertek/Учеба/НОД/sentiment-classification-model/venv/lib/python3.9/site-packages/sklearn/utils/extmath.py:203: RuntimeWarning: invalid value encountered in matmul\n",
      "  ret = a @ b\n",
      "/Users/yaseminkhertek/Учеба/НОД/sentiment-classification-model/venv/lib/python3.9/site-packages/sklearn/utils/extmath.py:203: RuntimeWarning: divide by zero encountered in matmul\n",
      "  ret = a @ b\n",
      "/Users/yaseminkhertek/Учеба/НОД/sentiment-classification-model/venv/lib/python3.9/site-packages/sklearn/utils/extmath.py:203: RuntimeWarning: overflow encountered in matmul\n",
      "  ret = a @ b\n",
      "/Users/yaseminkhertek/Учеба/НОД/sentiment-classification-model/venv/lib/python3.9/site-packages/sklearn/utils/extmath.py:203: RuntimeWarning: invalid value encountered in matmul\n",
      "  ret = a @ b\n",
      "/Users/yaseminkhertek/Учеба/НОД/sentiment-classification-model/venv/lib/python3.9/site-packages/sklearn/utils/extmath.py:203: RuntimeWarning: divide by zero encountered in matmul\n",
      "  ret = a @ b\n",
      "/Users/yaseminkhertek/Учеба/НОД/sentiment-classification-model/venv/lib/python3.9/site-packages/sklearn/utils/extmath.py:203: RuntimeWarning: overflow encountered in matmul\n",
      "  ret = a @ b\n",
      "/Users/yaseminkhertek/Учеба/НОД/sentiment-classification-model/venv/lib/python3.9/site-packages/sklearn/utils/extmath.py:203: RuntimeWarning: invalid value encountered in matmul\n",
      "  ret = a @ b\n",
      "/Users/yaseminkhertek/Учеба/НОД/sentiment-classification-model/venv/lib/python3.9/site-packages/sklearn/utils/extmath.py:203: RuntimeWarning: divide by zero encountered in matmul\n",
      "  ret = a @ b\n",
      "/Users/yaseminkhertek/Учеба/НОД/sentiment-classification-model/venv/lib/python3.9/site-packages/sklearn/utils/extmath.py:203: RuntimeWarning: overflow encountered in matmul\n",
      "  ret = a @ b\n",
      "/Users/yaseminkhertek/Учеба/НОД/sentiment-classification-model/venv/lib/python3.9/site-packages/sklearn/utils/extmath.py:203: RuntimeWarning: invalid value encountered in matmul\n",
      "  ret = a @ b\n",
      "/Users/yaseminkhertek/Учеба/НОД/sentiment-classification-model/venv/lib/python3.9/site-packages/sklearn/utils/extmath.py:203: RuntimeWarning: divide by zero encountered in matmul\n",
      "  ret = a @ b\n",
      "/Users/yaseminkhertek/Учеба/НОД/sentiment-classification-model/venv/lib/python3.9/site-packages/sklearn/utils/extmath.py:203: RuntimeWarning: overflow encountered in matmul\n",
      "  ret = a @ b\n",
      "/Users/yaseminkhertek/Учеба/НОД/sentiment-classification-model/venv/lib/python3.9/site-packages/sklearn/utils/extmath.py:203: RuntimeWarning: invalid value encountered in matmul\n",
      "  ret = a @ b\n"
     ]
    },
    {
     "name": "stdout",
     "output_type": "stream",
     "text": [
      "    → CV f1: 0.8720 | Время: 47.89 сек\n",
      "    → Val F1: 0.8717\n",
      "\n",
      "[+] Обработка модели: RandomForestClassifier\n",
      "    → CV f1: 0.8626 | Время: 734.17 сек\n",
      "    → Val F1: 0.8647\n",
      "\n",
      "[+] Обработка модели: DecisionTreeClassifier\n",
      "    → CV f1: 0.7961 | Время: 102.97 сек\n",
      "    → Val F1: 0.8010\n",
      "\n",
      "[+] Обработка модели: LGBMClassifier\n",
      "Ошибка при обучении LGBMClassifier: A task has failed to un-serialize. Please ensure that the arguments of the function are all picklable.\n",
      "\n",
      "[+] Обработка модели: CatBoostClassifier\n",
      "    → CV f1: 0.8684 | Время: 79.79 сек\n",
      "    → Val F1: 0.8665\n",
      "\n",
      "Лучшая модель: LogisticRegression (CV f1 = 0.8721)\n",
      "\n",
      "Сводка по моделям:\n",
      "                 model  cv_score  val_score  train_time_sec\n",
      "    LogisticRegression    0.8721     0.8715        109.2300\n",
      "             LinearSVC    0.8720     0.8717         47.8900\n",
      "    CatBoostClassifier    0.8684     0.8665         79.7900\n",
      "RandomForestClassifier    0.8626     0.8647        734.1700\n",
      "DecisionTreeClassifier    0.7961     0.8010        102.9700\n",
      "        LGBMClassifier       NaN        NaN          0.1500\n"
     ]
    }
   ],
   "source": [
    "# Запуск с прогрессом и таймингом\n",
    "best_model, results = grid_training(\n",
    "    X_train, y_train,\n",
    "    X_val=X_val,\n",
    "    y_val=y_val,\n",
    "    scoring='f1'\n",
    ")"
   ]
  },
  {
   "cell_type": "markdown",
   "metadata": {},
   "source": [
    "__хоть по метрикам LogReg лучшая, возьму LinearSVC - тк она быстрее обучилась, а скор +-одинаковый__"
   ]
  },
  {
   "cell_type": "code",
   "execution_count": 57,
   "metadata": {
    "scrolled": true
   },
   "outputs": [
    {
     "data": {
      "application/vnd.jupyter.widget-view+json": {
       "model_id": "02f021792e974297908da31a9c3718ba",
       "version_major": 2,
       "version_minor": 0
      },
      "text/plain": [
       "Подбор моделей:   0%|          | 0/1 [00:00<?, ?it/s]"
      ]
     },
     "metadata": {},
     "output_type": "display_data"
    },
    {
     "name": "stdout",
     "output_type": "stream",
     "text": [
      "\n",
      "[+] Обработка модели: LinearSVC\n"
     ]
    },
    {
     "name": "stderr",
     "output_type": "stream",
     "text": [
      "/Users/yaseminkhertek/Учеба/НОД/sentiment-classification-model/venv/lib/python3.9/site-packages/sklearn/utils/extmath.py:203: RuntimeWarning: divide by zero encountered in matmul\n",
      "  ret = a @ b\n",
      "/Users/yaseminkhertek/Учеба/НОД/sentiment-classification-model/venv/lib/python3.9/site-packages/sklearn/utils/extmath.py:203: RuntimeWarning: overflow encountered in matmul\n",
      "  ret = a @ b\n",
      "/Users/yaseminkhertek/Учеба/НОД/sentiment-classification-model/venv/lib/python3.9/site-packages/sklearn/utils/extmath.py:203: RuntimeWarning: invalid value encountered in matmul\n",
      "  ret = a @ b\n",
      "/Users/yaseminkhertek/Учеба/НОД/sentiment-classification-model/venv/lib/python3.9/site-packages/sklearn/utils/extmath.py:203: RuntimeWarning: divide by zero encountered in matmul\n",
      "  ret = a @ b\n",
      "/Users/yaseminkhertek/Учеба/НОД/sentiment-classification-model/venv/lib/python3.9/site-packages/sklearn/utils/extmath.py:203: RuntimeWarning: overflow encountered in matmul\n",
      "  ret = a @ b\n",
      "/Users/yaseminkhertek/Учеба/НОД/sentiment-classification-model/venv/lib/python3.9/site-packages/sklearn/utils/extmath.py:203: RuntimeWarning: invalid value encountered in matmul\n",
      "  ret = a @ b\n",
      "/Users/yaseminkhertek/Учеба/НОД/sentiment-classification-model/venv/lib/python3.9/site-packages/sklearn/utils/extmath.py:203: RuntimeWarning: divide by zero encountered in matmul\n",
      "  ret = a @ b\n",
      "/Users/yaseminkhertek/Учеба/НОД/sentiment-classification-model/venv/lib/python3.9/site-packages/sklearn/utils/extmath.py:203: RuntimeWarning: overflow encountered in matmul\n",
      "  ret = a @ b\n",
      "/Users/yaseminkhertek/Учеба/НОД/sentiment-classification-model/venv/lib/python3.9/site-packages/sklearn/utils/extmath.py:203: RuntimeWarning: invalid value encountered in matmul\n",
      "  ret = a @ b\n",
      "/Users/yaseminkhertek/Учеба/НОД/sentiment-classification-model/venv/lib/python3.9/site-packages/sklearn/utils/extmath.py:203: RuntimeWarning: divide by zero encountered in matmul\n",
      "  ret = a @ b\n",
      "/Users/yaseminkhertek/Учеба/НОД/sentiment-classification-model/venv/lib/python3.9/site-packages/sklearn/utils/extmath.py:203: RuntimeWarning: overflow encountered in matmul\n",
      "  ret = a @ b\n",
      "/Users/yaseminkhertek/Учеба/НОД/sentiment-classification-model/venv/lib/python3.9/site-packages/sklearn/utils/extmath.py:203: RuntimeWarning: invalid value encountered in matmul\n",
      "  ret = a @ b\n",
      "/Users/yaseminkhertek/Учеба/НОД/sentiment-classification-model/venv/lib/python3.9/site-packages/sklearn/utils/extmath.py:203: RuntimeWarning: divide by zero encountered in matmul\n",
      "  ret = a @ b\n",
      "/Users/yaseminkhertek/Учеба/НОД/sentiment-classification-model/venv/lib/python3.9/site-packages/sklearn/utils/extmath.py:203: RuntimeWarning: overflow encountered in matmul\n",
      "  ret = a @ b\n",
      "/Users/yaseminkhertek/Учеба/НОД/sentiment-classification-model/venv/lib/python3.9/site-packages/sklearn/utils/extmath.py:203: RuntimeWarning: invalid value encountered in matmul\n",
      "  ret = a @ b\n",
      "/Users/yaseminkhertek/Учеба/НОД/sentiment-classification-model/venv/lib/python3.9/site-packages/sklearn/utils/extmath.py:203: RuntimeWarning: divide by zero encountered in matmul\n",
      "  ret = a @ b\n",
      "/Users/yaseminkhertek/Учеба/НОД/sentiment-classification-model/venv/lib/python3.9/site-packages/sklearn/utils/extmath.py:203: RuntimeWarning: overflow encountered in matmul\n",
      "  ret = a @ b\n",
      "/Users/yaseminkhertek/Учеба/НОД/sentiment-classification-model/venv/lib/python3.9/site-packages/sklearn/utils/extmath.py:203: RuntimeWarning: invalid value encountered in matmul\n",
      "  ret = a @ b\n",
      "/Users/yaseminkhertek/Учеба/НОД/sentiment-classification-model/venv/lib/python3.9/site-packages/sklearn/utils/extmath.py:203: RuntimeWarning: divide by zero encountered in matmul\n",
      "  ret = a @ b\n",
      "/Users/yaseminkhertek/Учеба/НОД/sentiment-classification-model/venv/lib/python3.9/site-packages/sklearn/utils/extmath.py:203: RuntimeWarning: overflow encountered in matmul\n",
      "  ret = a @ b\n",
      "/Users/yaseminkhertek/Учеба/НОД/sentiment-classification-model/venv/lib/python3.9/site-packages/sklearn/utils/extmath.py:203: RuntimeWarning: invalid value encountered in matmul\n",
      "  ret = a @ b\n",
      "/Users/yaseminkhertek/Учеба/НОД/sentiment-classification-model/venv/lib/python3.9/site-packages/sklearn/utils/extmath.py:203: RuntimeWarning: divide by zero encountered in matmul\n",
      "  ret = a @ b\n",
      "/Users/yaseminkhertek/Учеба/НОД/sentiment-classification-model/venv/lib/python3.9/site-packages/sklearn/utils/extmath.py:203: RuntimeWarning: overflow encountered in matmul\n",
      "  ret = a @ b\n",
      "/Users/yaseminkhertek/Учеба/НОД/sentiment-classification-model/venv/lib/python3.9/site-packages/sklearn/utils/extmath.py:203: RuntimeWarning: invalid value encountered in matmul\n",
      "  ret = a @ b\n",
      "/Users/yaseminkhertek/Учеба/НОД/sentiment-classification-model/venv/lib/python3.9/site-packages/sklearn/utils/extmath.py:203: RuntimeWarning: divide by zero encountered in matmul\n",
      "  ret = a @ b\n",
      "/Users/yaseminkhertek/Учеба/НОД/sentiment-classification-model/venv/lib/python3.9/site-packages/sklearn/utils/extmath.py:203: RuntimeWarning: overflow encountered in matmul\n",
      "  ret = a @ b\n",
      "/Users/yaseminkhertek/Учеба/НОД/sentiment-classification-model/venv/lib/python3.9/site-packages/sklearn/utils/extmath.py:203: RuntimeWarning: invalid value encountered in matmul\n",
      "  ret = a @ b\n",
      "/Users/yaseminkhertek/Учеба/НОД/sentiment-classification-model/venv/lib/python3.9/site-packages/sklearn/utils/extmath.py:203: RuntimeWarning: divide by zero encountered in matmul\n",
      "  ret = a @ b\n",
      "/Users/yaseminkhertek/Учеба/НОД/sentiment-classification-model/venv/lib/python3.9/site-packages/sklearn/utils/extmath.py:203: RuntimeWarning: overflow encountered in matmul\n",
      "  ret = a @ b\n",
      "/Users/yaseminkhertek/Учеба/НОД/sentiment-classification-model/venv/lib/python3.9/site-packages/sklearn/utils/extmath.py:203: RuntimeWarning: invalid value encountered in matmul\n",
      "  ret = a @ b\n",
      "/Users/yaseminkhertek/Учеба/НОД/sentiment-classification-model/venv/lib/python3.9/site-packages/sklearn/utils/extmath.py:203: RuntimeWarning: divide by zero encountered in matmul\n",
      "  ret = a @ b\n",
      "/Users/yaseminkhertek/Учеба/НОД/sentiment-classification-model/venv/lib/python3.9/site-packages/sklearn/utils/extmath.py:203: RuntimeWarning: overflow encountered in matmul\n",
      "  ret = a @ b\n",
      "/Users/yaseminkhertek/Учеба/НОД/sentiment-classification-model/venv/lib/python3.9/site-packages/sklearn/utils/extmath.py:203: RuntimeWarning: invalid value encountered in matmul\n",
      "  ret = a @ b\n",
      "/Users/yaseminkhertek/Учеба/НОД/sentiment-classification-model/venv/lib/python3.9/site-packages/sklearn/utils/extmath.py:203: RuntimeWarning: divide by zero encountered in matmul\n",
      "  ret = a @ b\n",
      "/Users/yaseminkhertek/Учеба/НОД/sentiment-classification-model/venv/lib/python3.9/site-packages/sklearn/utils/extmath.py:203: RuntimeWarning: overflow encountered in matmul\n",
      "  ret = a @ b\n",
      "/Users/yaseminkhertek/Учеба/НОД/sentiment-classification-model/venv/lib/python3.9/site-packages/sklearn/utils/extmath.py:203: RuntimeWarning: invalid value encountered in matmul\n",
      "  ret = a @ b\n"
     ]
    },
    {
     "name": "stdout",
     "output_type": "stream",
     "text": [
      "    → CV f1: 0.8720 | Время: 56.94 сек\n",
      "    → Val F1: 0.8717\n",
      "\n",
      "Лучшая модель: LinearSVC (CV f1 = 0.8720)\n",
      "\n",
      "Сводка по моделям:\n",
      "    model  cv_score  val_score  train_time_sec\n",
      "LinearSVC    0.8720     0.8717         56.9400\n"
     ]
    }
   ],
   "source": [
    "best_model_2, results_2 = grid_training(\n",
    "    X_train, y_train,\n",
    "    X_val=X_val,\n",
    "    y_val=y_val,\n",
    "    scoring='f1',\n",
    "    model_name='LinearSVC'\n",
    ")"
   ]
  },
  {
   "cell_type": "code",
   "execution_count": 81,
   "metadata": {},
   "outputs": [
    {
     "data": {
      "text/plain": [
       "array([{'C': 0.1, 'class_weight': None, 'loss': 'squared_hinge', 'max_iter': 2000, 'penalty': 'l2'}],\n",
       "      dtype=object)"
      ]
     },
     "execution_count": 81,
     "metadata": {},
     "output_type": "execute_result"
    }
   ],
   "source": [
    "results_2['best_params'].values"
   ]
  },
  {
   "cell_type": "code",
   "execution_count": null,
   "metadata": {},
   "outputs": [],
   "source": []
  },
  {
   "cell_type": "code",
   "execution_count": 84,
   "metadata": {},
   "outputs": [
    {
     "name": "stdout",
     "output_type": "stream",
     "text": [
      "Финальный f1_score для классического ML: 0.8747903305377405\n"
     ]
    }
   ],
   "source": [
    "model_1 = best_model.fit(embeddings, df['label'])\n",
    "print(f'Финальный f1_score для классического ML: {f1_score(model_1.predict(X_test), y_test)}')"
   ]
  },
  {
   "cell_type": "code",
   "execution_count": 85,
   "metadata": {},
   "outputs": [
    {
     "name": "stdout",
     "output_type": "stream",
     "text": [
      "Финальный f1_score для классического ML: 0.8741996885274269\n"
     ]
    }
   ],
   "source": [
    "model_2 = best_model_2.fit(embeddings, df['label'])\n",
    "print(f'Финальный f1_score для классического ML: {f1_score(model_2.predict(X_test), y_test)}')"
   ]
  },
  {
   "cell_type": "code",
   "execution_count": 65,
   "metadata": {},
   "outputs": [
    {
     "data": {
      "text/plain": [
       "<sklearn.metrics._plot.confusion_matrix.ConfusionMatrixDisplay at 0x35fb79fd0>"
      ]
     },
     "execution_count": 65,
     "metadata": {},
     "output_type": "execute_result"
    },
    {
     "data": {
      "image/png": "[encoded data removed]",
      "text/plain": [
       "<Figure size 640x480 with 2 Axes>"
      ]
     },
     "metadata": {},
     "output_type": "display_data"
    }
   ],
   "source": [
    "ConfusionMatrixDisplay(confusion_matrix(best_model.predict(X_test), y_test)).plot()"
   ]
  },
  {
   "cell_type": "code",
   "execution_count": 64,
   "metadata": {},
   "outputs": [
    {
     "data": {
      "text/plain": [
       "<sklearn.metrics._plot.confusion_matrix.ConfusionMatrixDisplay at 0x35ff82b80>"
      ]
     },
     "execution_count": 64,
     "metadata": {},
     "output_type": "execute_result"
    },
    {
     "data": {
      "image/png": "[encoded data removed]",
      "text/plain": [
       "<Figure size 640x480 with 2 Axes>"
      ]
     },
     "metadata": {},
     "output_type": "display_data"
    }
   ],
   "source": [
    "ConfusionMatrixDisplay(confusion_matrix(best_model_2.predict(X_test), y_test)).plot()"
   ]
  },
  {
   "cell_type": "code",
   "execution_count": 88,
   "metadata": {},
   "outputs": [],
   "source": [
    "joblib.dump(model_1, '../models/LogReg.joblib')\n",
    "joblib.dump(model_2, '../models/LinearSVC.joblib')\n",
    "\n",
    "with open('../models/LogReg.pkl', 'wb') as f:  \n",
    "    pickle.dump(model_1, f) \n",
    "    \n",
    "with open('../models/LinearSVC.pkl', 'wb') as f:  \n",
    "    pickle.dump(model_2, f) "
   ]
  },
  {
   "cell_type": "code",
   "execution_count": 89,
   "metadata": {},
   "outputs": [
    {
     "name": "stdout",
     "output_type": "stream",
     "text": [
      "f1_score для классического ML: 0.8747903305377405\n"
     ]
    }
   ],
   "source": [
    "logreg = joblib.load('../models/LogReg.joblib')\n",
    "print(f'f1_score для классического ML: {f1_score(logreg.predict(X_test), y_test)}')"
   ]
  },
  {
   "cell_type": "code",
   "execution_count": null,
   "metadata": {},
   "outputs": [],
   "source": []
  },
  {
   "cell_type": "code",
   "execution_count": null,
   "metadata": {},
   "outputs": [],
   "source": []
  },
  {
   "cell_type": "code",
   "execution_count": null,
   "metadata": {},
   "outputs": [],
   "source": []
  },
  {
   "cell_type": "code",
   "execution_count": null,
   "metadata": {},
   "outputs": [],
   "source": []
  },
  {
   "cell_type": "markdown",
   "metadata": {
    "jp-MarkdownHeadingCollapsed": true
   },
   "source": [
    "# **Предобученная нейросеть**"
   ]
  },
  {
   "cell_type": "markdown",
   "metadata": {},
   "source": [
    "В данном параграфе была использована модель rubert-tiny2 предобученная для определения тональности текстов с сайта HuggingFace: https://huggingface.co/seara/rubert-tiny2-russian-sentiment"
   ]
  },
  {
   "cell_type": "code",
   "execution_count": null,
   "metadata": {},
   "outputs": [],
   "source": [
    "!pip install transformers evaluate accelerate -q"
   ]
  },
  {
   "cell_type": "code",
   "execution_count": null,
   "metadata": {},
   "outputs": [],
   "source": [
    "from datasets import Dataset\n",
    "from transformers import AutoTokenizer, Trainer, TrainingArguments\n",
    "from transformers import pipeline, set_seed\n",
    "from transformers import AutoModelForSequenceClassification, DataCollatorWithPadding\n",
    "import torch\n",
    "from torch.utils.data import DataLoader\n",
    "from datasets import DatasetDict"
   ]
  },
  {
   "cell_type": "code",
   "execution_count": null,
   "metadata": {},
   "outputs": [],
   "source": [
    "train_df = pd.DataFrame({'text': X_train, 'label': y_train})\n",
    "val_df = pd.DataFrame({'text': X_val, 'label': y_val})\n",
    "\n",
    "train_dataset = Dataset.from_pandas(train_df)\n",
    "val_dataset = Dataset.from_pandas(val_df)\n",
    "dataset = DatasetDict({'train': train_dataset, 'validation': val_dataset})"
   ]
  },
  {
   "cell_type": "code",
   "execution_count": null,
   "metadata": {},
   "outputs": [],
   "source": [
    "test_df = pd.DataFrame({'text': X_test, 'label': y_test})\n",
    "\n",
    "test_dataset = Dataset.from_pandas(test_df)"
   ]
  },
  {
   "cell_type": "code",
   "execution_count": null,
   "metadata": {},
   "outputs": [],
   "source": [
    "device = torch.device(\"cuda\" if torch.cuda.is_available() else \"cpu\")\n",
    "print(f\"Using device: {device}\")\n",
    "\n",
    "tokenizer = AutoTokenizer.from_pretrained(\"seara/rubert-tiny2-russian-sentiment\")\n",
    "if tokenizer.pad_token is None:\n",
    "    tokenizer.pad_token = tokenizer.eos_token\n",
    "\n",
    "data_collator = DataCollatorWithPadding(tokenizer=tokenizer)\n",
    "\n",
    "model = AutoModelForSequenceClassification.from_pretrained(\"seara/rubert-tiny2-russian-sentiment\", num_labels=3).to(device)\n",
    "if tokenizer.pad_token_id >= model.config.vocab_size:\n",
    "    model.resize_token_embeddings(len(tokenizer))\n",
    "\n",
    "def tokenize_function(examples):\n",
    "    tokenized = tokenizer(examples['text'], truncation=True, padding='max_length', max_length=128)\n",
    "    tokenized['labels'] = examples['label']\n",
    "    return tokenized\n",
    "\n",
    "tokenized_dataset = dataset.map(tokenize_function, batched=True)\n",
    "tokenized_dataset = tokenized_dataset.remove_columns(['text'])"
   ]
  },
  {
   "cell_type": "code",
   "execution_count": null,
   "metadata": {},
   "outputs": [],
   "source": [
    "tokenized_test = test_dataset.map(tokenize_function, batched=True)\n",
    "tokenized_test = tokenized_test.remove_columns(['text'])\n",
    "test_dataloader = DataLoader(tokenized_test, batch_size=32, collate_fn=data_collator)"
   ]
  },
  {
   "cell_type": "code",
   "execution_count": null,
   "metadata": {},
   "outputs": [],
   "source": [
    "model.eval()\n",
    "all_logits = []\n",
    "with torch.no_grad():\n",
    "    for batch in tqdm(test_dataloader):\n",
    "        batch = {k: v.to(device) for k, v in batch.items() if k not in ['idx', '__index_level_0__']}\n",
    "        outputs = model(**batch)\n",
    "        logits = outputs.logits\n",
    "        all_logits.append(logits.cpu())\n",
    "\n",
    "all_logits = torch.cat(all_logits, dim=0)\n",
    "\n",
    "predicted_labels = torch.argmax(all_logits, dim=1).numpy()"
   ]
  },
  {
   "cell_type": "code",
   "execution_count": null,
   "metadata": {},
   "outputs": [],
   "source": [
    "print(f'macro f-score до файнтюнинга модели: {f1_score(predicted_labels, y_test, average=\"macro\")}')"
   ]
  },
  {
   "cell_type": "code",
   "execution_count": null,
   "metadata": {},
   "outputs": [],
   "source": [
    "training_args = TrainingArguments(\n",
    "    output_dir=\"./results\",\n",
    "    num_train_epochs=10,\n",
    "    per_device_train_batch_size=32,\n",
    "    per_device_eval_batch_size=32,\n",
    "    logging_steps=1000,\n",
    "    logging_dir=\"./logs\",\n",
    "    report_to=\"none\",\n",
    "    disable_tqdm=False,\n",
    "    save_strategy=\"no\"\n",
    ")\n",
    "\n",
    "trainer = Trainer(\n",
    "    model=model,\n",
    "    args=training_args,\n",
    "    train_dataset=tokenized_dataset['train'],\n",
    "    eval_dataset=tokenized_dataset['validation']\n",
    ")"
   ]
  },
  {
   "cell_type": "code",
   "execution_count": null,
   "metadata": {},
   "outputs": [],
   "source": [
    "trainer.train()"
   ]
  },
  {
   "cell_type": "code",
   "execution_count": null,
   "metadata": {},
   "outputs": [],
   "source": [
    "model.eval()\n",
    "all_logits = []\n",
    "with torch.no_grad():\n",
    "    for batch in tqdm(test_dataloader):\n",
    "        batch = {k: v.to(device) for k, v in batch.items() if k not in ['idx', '__index_level_0__']}\n",
    "        outputs = model(**batch)\n",
    "        logits = outputs.logits\n",
    "        all_logits.append(logits.cpu())\n",
    "\n",
    "all_logits = torch.cat(all_logits, dim=0)\n",
    "\n",
    "predicted_labels = torch.argmax(all_logits, dim=1).numpy()"
   ]
  },
  {
   "cell_type": "code",
   "execution_count": null,
   "metadata": {},
   "outputs": [],
   "source": [
    "print(f'macro f-score после файнтюнинга модели: {f1_score(predicted_labels, y_test, average=\"macro\")}')"
   ]
  },
  {
   "cell_type": "code",
   "execution_count": null,
   "metadata": {},
   "outputs": [],
   "source": [
    "ConfusionMatrixDisplay(confusion_matrix(predicted_labels, y_test)).plot()"
   ]
  }
 ],
 "metadata": {
  "kaggle": {
   "accelerator": "none",
   "dataSources": [
    {
     "datasetId": 6663319,
     "sourceId": 10745140,
     "sourceType": "datasetVersion"
    }
   ],
   "dockerImageVersionId": 31040,
   "isGpuEnabled": false,
   "isInternetEnabled": true,
   "language": "python",
   "sourceType": "notebook"
  },
  "kernelspec": {
   "display_name": "Python (sentimetn analysis & classification)",
   "language": "python",
   "name": "sentiment_cls_env"
  },
  "language_info": {
   "codemirror_mode": {
    "name": "ipython",
    "version": 3
   },
   "file_extension": ".py",
   "mimetype": "text/x-python",
   "name": "python",
   "nbconvert_exporter": "python",
   "pygments_lexer": "ipython3",
   "version": "3.9.6"
  }
 },
 "nbformat": 4,
 "nbformat_minor": 4
}
