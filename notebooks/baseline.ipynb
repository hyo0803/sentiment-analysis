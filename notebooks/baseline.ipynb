{
 "cells": [
  {
   "cell_type": "code",
   "execution_count": 2,
   "id": "836a0b12-e2c2-48b8-978e-f284aef7036d",
   "metadata": {},
   "outputs": [],
   "source": [
    "import re\n",
    "import numpy as np\n",
    "import joblib\n",
    "from sentence_transformers import SentenceTransformer\n",
    "from sklearn.svm import LinearSVC\n",
    "\n",
    "def preprocess_text(text: str) -> str:\n",
    "    \"\"\"\n",
    "    Минимальная предобработка текста:\n",
    "    - Удаляет переносы строк, табуляции, начальные спецсимволы\n",
    "    - Нормализует пробелы\n",
    "    - Сохраняет всё важное: пунктуацию, эмодзи, хештеги, регистр\n",
    "    \"\"\"\n",
    "    if not isinstance(text, str):\n",
    "        text = str(text)\n",
    "    # Удаляем \\n, \\t и другие control-символы (кроме пробела)\n",
    "    text = re.sub(r\"[\\n\\t\\r]+\", \" \", text)\n",
    "    # Убираем множественные пробелы\n",
    "    text = re.sub(r\"\\s+\", \" \", text)\n",
    "    # Убираем пробелы по краям\n",
    "    return text.strip()\n",
    "\n",
    "class SentimentClassifier:\n",
    "    def __init__(self, embedder='paraphrase-multilingual-MiniLM-L12-v2', model_path=None):\n",
    "        self.embedding_model = SentenceTransformer(embedder)\n",
    "        self.classifier = None\n",
    "        if model_path:\n",
    "            self.load_model(model_path)\n",
    "    \n",
    "    def _preprocess(self, texts):\n",
    "        \"\"\"Применяет preprocess_text к одному или списку текстов.\"\"\"\n",
    "        if isinstance(texts, str):\n",
    "            return preprocess_text(texts)\n",
    "        return [preprocess_text(t) for t in texts]\n",
    "    \n",
    "    def fit(self, texts, labels):\n",
    "        print(\"Предобработка текстов...\")\n",
    "        texts_clean = self._preprocess(texts)\n",
    "        print(\"Векторизация...\")\n",
    "        embeddings = self.embedding_model.encode(texts_clean, show_progress_bar=True)\n",
    "        print(\"Обучение LinearSVC...\")\n",
    "        self.classifier = LinearSVC(\n",
    "            C=0.1,\n",
    "            penalty='l2',\n",
    "            loss='squared_hinge',\n",
    "            max_iter=2000,\n",
    "            random_state=42,\n",
    "            class_weight=None\n",
    "        )\n",
    "        self.classifier.fit(embeddings, labels)\n",
    "        print(\"Обучение завершено.\")\n",
    "    \n",
    "    def predict(self, texts):\n",
    "        if self.classifier is None:\n",
    "            raise ValueError(\"Модель не обучена и не загружена!\")\n",
    "        \n",
    "        single_input = isinstance(texts, str)\n",
    "        texts_clean = self._preprocess(texts)\n",
    "        embeddings = self.embedding_model.encode([texts_clean], show_progress_bar=False)\n",
    "        predictions = self.classifier.predict(embeddings)\n",
    "        \n",
    "        # Преобразуем числовые метки в строки, если нужно\n",
    "        if len(predictions) > 0 and isinstance(predictions[0], (int, np.integer)):\n",
    "            label_map = {0: \"negative\", 1: \"positive\"}\n",
    "            predictions = [label_map.get(p, p) for p in predictions]\n",
    "        \n",
    "        return predictions[0] if single_input else predictions\n",
    "    \n",
    "    def predict_proba(self, texts):\n",
    "        if self.classifier is None:\n",
    "            raise ValueError(\"Модель не обучена и не загружена!\")\n",
    "        \n",
    "        single_input = isinstance(texts, str)\n",
    "        texts_clean = self._preprocess(texts)\n",
    "        embeddings = self.embedding_model.encode([texts_clean], show_progress_bar=False)\n",
    "        scores = self.classifier.decision_function(embeddings)\n",
    "        proba = 1 / (1 + np.exp(-scores))\n",
    "        return float(proba[0]) if single_input else proba.tolist()\n",
    "    \n",
    "    def save_model(self, path):\n",
    "        if self.classifier is None:\n",
    "            raise ValueError(\"Нечего сохранять!\")\n",
    "        joblib.dump(self.classifier, path)\n",
    "        print(f\"Модель сохранена в {path}\")\n",
    "    \n",
    "    def load_model(self, path):\n",
    "        self.classifier = joblib.load(path)\n",
    "        # print(f\"Модель загружена из {path}\")"
   ]
  },
  {
   "cell_type": "code",
   "execution_count": 4,
   "id": "d40cbca0-6d08-4d86-9e0b-bdeaf28d9d39",
   "metadata": {},
   "outputs": [
    {
     "name": "stdout",
     "output_type": "stream",
     "text": [
      "This is amazing! positive\n",
      "Ужасный сервис negative\n",
      " 'Great job!' - Уверенность: 0.96\n",
      "[NEGATIVE (0.15)] I hate this product\n"
     ]
    }
   ],
   "source": [
    "# ==============================\n",
    "# Пример использования\n",
    "# ==============================\n",
    "\n",
    "if __name__ == \"__main__\":\n",
    "    # --- Этап 1: Обучение (делается один раз) ---\n",
    "    # texts = [\"I love this!\", \"Этот товар ужасный\", ...]\n",
    "    # labels = [\"positive\", \"negative\", ...]\n",
    "    # clf = SentimentClassifier()\n",
    "    # clf.fit(texts, labels)\n",
    "    # clf.save_model(\"sentiment_model.joblib\")\n",
    "    \n",
    "    # --- Этап 2: Инференс (в production) ---\n",
    "    clf = SentimentClassifier(model_path=\"../models/LinearSVC.joblib\")\n",
    "    \n",
    "    # Одиночный текст\n",
    "    print(\"This is amazing!\", clf.predict(\"This is amazing!\"))  # → positive\n",
    "    print(\"Ужасный сервис\", clf.predict(\"Ужасный сервис\"))    # → negative\n",
    "    print(f\" 'Great job!' - Уверенность: {clf.predict_proba('Great job!'):.2f}\")\n",
    "    \n",
    "    # Батч\n",
    "    texts = [\n",
    "        \"I hate this product\",\n",
    "        \"Отлично сработано!\",\n",
    "        \"Not bad, but could be better\"\n",
    "    ]\n",
    "    predictions = clf.predict(texts)\n",
    "    confidences = clf.predict_proba(texts)\n",
    "    \n",
    "    for text, pred, conf in zip(texts, predictions, confidences):\n",
    "        print(f\"[{pred.upper()} ({conf:.2f})] {text}\")"
   ]
  },
  {
   "cell_type": "markdown",
   "id": "0538ff98-9f07-435c-873d-9475f7bc5acf",
   "metadata": {},
   "source": [
    "## Chat bot like"
   ]
  },
  {
   "cell_type": "code",
   "execution_count": 6,
   "id": "53aeb1ea-3d9a-41a6-945e-a081e43b4d4a",
   "metadata": {},
   "outputs": [
    {
     "name": "stdin",
     "output_type": "stream",
     "text": [
      "Ваш текст (для завершения введите 'exit' или 'выход'):  да это клево чувак\n"
     ]
    },
    {
     "name": "stdout",
     "output_type": "stream",
     "text": [
      "Пользователь:\n",
      "\t да это клево чувак \n",
      "\n",
      "Ответ классификатора:\n",
      "\t negative \n",
      "\n",
      "Уверенность: 0.39\n",
      "----------\n"
     ]
    },
    {
     "name": "stdin",
     "output_type": "stream",
     "text": [
      "Ваш текст:  не понимаю\n"
     ]
    },
    {
     "name": "stdout",
     "output_type": "stream",
     "text": [
      "Пользователь:\n",
      "\t не понимаю \n",
      "\n",
      "Ответ классификатора:\n",
      "\t negative \n",
      "\n",
      "Уверенность: 0.22\n",
      "----------\n"
     ]
    },
    {
     "name": "stdin",
     "output_type": "stream",
     "text": [
      "Ваш текст:  понимаю\n"
     ]
    },
    {
     "name": "stdout",
     "output_type": "stream",
     "text": [
      "Пользователь:\n",
      "\t понимаю \n",
      "\n",
      "Ответ классификатора:\n",
      "\t positive \n",
      "\n",
      "Уверенность: 0.71\n",
      "----------\n"
     ]
    },
    {
     "name": "stdin",
     "output_type": "stream",
     "text": [
      "Ваш текст:  выход\n"
     ]
    }
   ],
   "source": [
    "clf = SentimentClassifier(model_path=\"../models/LinearSVC.joblib\")\n",
    "\n",
    "if __name__ == \"__main__\":\n",
    "    # Инференс (в production) ---    \n",
    "\n",
    "    user_input = input(\"Ваш текст (для завершения введите 'exit' или 'выход'): \")\n",
    "    \n",
    "    while user_input!='exit' and user_input!='выход':\n",
    "        print('Пользователь:')\n",
    "        print('\\t', user_input, '\\n')\n",
    "\n",
    "        print('Ответ классификатора:')\n",
    "        print('\\t', clf.predict(user_input), '\\n')\n",
    "        print(f\"Уверенность: {clf.predict_proba(user_input):.2f}\")\n",
    "        print('----------')\n",
    "        \n",
    "        user_input = input(\"Ваш текст: \")"
   ]
  },
  {
   "cell_type": "code",
   "execution_count": null,
   "id": "d13b601e-14fa-4c62-9038-4ba206b3aae5",
   "metadata": {},
   "outputs": [],
   "source": []
  }
 ],
 "metadata": {
  "kernelspec": {
   "display_name": "Python (sentimetn analysis & classification)",
   "language": "python",
   "name": "sentiment_cls_env"
  },
  "language_info": {
   "codemirror_mode": {
    "name": "ipython",
    "version": 3
   },
   "file_extension": ".py",
   "mimetype": "text/x-python",
   "name": "python",
   "nbconvert_exporter": "python",
   "pygments_lexer": "ipython3",
   "version": "3.9.6"
  }
 },
 "nbformat": 4,
 "nbformat_minor": 5
}
